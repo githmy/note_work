{
 "cells": [
  {
   "cell_type": "code",
   "execution_count": null,
   "metadata": {},
   "outputs": [],
   "source": [
    "# This Python 3 environment comes with many helpful analytics libraries installed\n",
    "# For example, here's several helpful packages to load in \n",
    "\n",
    "import pandas as pd\n",
    "import numpy as np\n",
    "\n",
    "# submit CSV to hdfs\n",
    "import submittools as sub\n",
    "\n",
    "# Input data files are available with function competitionData\n",
    "from Turing import competitionData, userData\n",
    "\n",
    "import pandas as pd\n",
    "import numpy as np\n",
    "from sklearn.model_selection import StratifiedKFold\n",
    "from lightgbm.sklearn import LGBMClassifier\n",
    "from sklearn.metrics import roc_auc_score\n",
    "from tqdm import tqdm\n",
    "import matplotlib.pyplot as plt\n",
    "import seaborn as sns\n",
    "import time\n",
    "import gc\n",
    "import warnings\n",
    "warnings.filterwarnings('ignore')\n",
    "pd.set_option('display.max_columns', None)\n",
    "pd.set_option('display.max_rows', None)"
   ]
  },
  {
   "cell_type": "code",
   "execution_count": null,
   "metadata": {},
   "outputs": [],
   "source": [
    "train_df = pd.read_csv('data/train.csv')\n",
    "print(train_df.shape, train_df['flag'].mean())\n",
    "test_df = pd.read_csv('data/test.csv')\n",
    "print(test_df.shape)\n",
    "event_df = pd.read_csv('data/event.csv')\n",
    "print(event_df.shape)\n",
    "\n",
    "df = pd.concat([train_df, test_df], axis=0, ignore_index=True)\n",
    "df = df.merge(event_df, on='event_id', how='left')\n",
    "df = df.sort_values(['event_id', 't']).reset_index(drop=True)\n",
    "print(df.shape)\n"
   ]
  },
  {
   "cell_type": "code",
   "execution_count": null,
   "metadata": {},
   "outputs": [],
   "source": [
    "## event的信号比\n",
    "df['nhitreal_prop'] = df['nhitreal'] / df['nhit']\n",
    "\n",
    "## 时间上的误差比\n",
    "df['terror_prop'] = df['terror'] / (df['t'] + 1e-5)\n",
    "\n",
    "## 角度\n",
    "df['angle'] = np.arctan(df['y'] / (df['x'] + 1e-5))\n",
    "df['c_angle'] = np.arctan(df['ycmc'] / (df['xcmc'] + 1e-5))\n",
    "\n",
    "## 与芯位的关系，横纵坐标上的距离、欧式距离、余弦距离\n",
    "df['x_xcmc_dist'] = df['x'] - df['xcmc']\n",
    "df['y_ycmc_dist'] = df['y'] - df['ycmc']\n",
    "df['c_dist'] = np.sqrt(np.square(df['x'] - df['xcmc']) + np.square(df['y'] - df['ycmc']))\n",
    "df['c_cos'] = (df['x'] * df['xcmc'] + df['y'] * df['ycmc']) / (\n",
    "        np.sqrt(df['x'] * df['x'] + df['y'] * df['y'])\n",
    "        * np.sqrt(df['xcmc'] * df['xcmc'] + df['ycmc'] * df['ycmc']) + 1e-5\n",
    ")\n",
    "\n",
    "## 电荷量与原初粒子能量的关系\n",
    "df['q_energymc_ratio'] = df['q'] / (df['energymc'] + 1e-5)"
   ]
  },
  {
   "cell_type": "code",
   "execution_count": null,
   "metadata": {},
   "outputs": [],
   "source": [
    "                    \n",
    "## count编码，还是有点用\n",
    "for f in tqdm(['x', 'y', 'terror', 'q']):\n",
    "    df[f + '_count'] = df[f].map(df[f].value_counts())\n",
    "for f in tqdm([\n",
    "    ['x', 'y'], ['x', 'terror'], ['x', 'q'],\n",
    "    ['y', 'terror'], ['y', 'q'], ['terror', 'q']\n",
    "]):\n",
    "    df['_'.join(f) + '_count'] = df.groupby(f)['hit_id'].transform('count')"
   ]
  },
  {
   "cell_type": "code",
   "execution_count": null,
   "metadata": {},
   "outputs": [],
   "source": [
    "## 时间轴上的相对变化量，“第二次打比赛”团队之前的开源也有类似的操作\n",
    "g = df.groupby('event_id')\n",
    "for f in tqdm(['x', 'y', 'terror', 'q', 't', 'c_dist']):\n",
    "    df['event_id_{}_mean'.format(f)] = g[f].transform('mean')\n",
    "    for i in [1, 2, 4, 8, 10, 12, 15, 18, 20]:\n",
    "        df['event_id_{}_diff_next_{}'.format(f, i)] = g[f].shift(0) - g[f].shift(-i)\n",
    "        df['event_id_{}_diff_prev_{}'.format(f, i)] = g[f].shift(0) - g[f].shift(i)"
   ]
  },
  {
   "cell_type": "code",
   "execution_count": null,
   "metadata": {},
   "outputs": [],
   "source": [
    "                    \n",
    "## 探测器记录的时间不是从0开始的，而是以最早触发的时间为基准的，所以算一下每个hit在其event中的相对触发时间\n",
    "df['event_id_t_min'] = df.groupby('event_id')['t'].transform('min')\n",
    "df['t_gap'] = df['t'] - df['event_id_t_min']\n",
    "\n",
    "## 据说一个event里的信号在时间上大致都分布在中间的一个区间，因此计算一下各个hit的触发时间跟中间触发时间的间隔\n",
    "df['event_id_t_gap_mid'] = df.groupby('event_id')['t_gap'].transform('max') / 2\n",
    "df['t_mid_gap'] = df['t_gap'] - df['event_id_t_gap_mid']\n",
    "df['t_mid_gap_abs'] = abs(df['t_mid_gap'])\n",
    "\n",
    "## 一个event中所有hit的电荷总量跟原初粒子能量的关系\n",
    "df['event_id_q_sum'] = df.groupby('event_id')['q'].transform('sum')\n",
    "df['q_prop'] = df['q'] / (df['event_id_q_sum'] + 1e-5)\n",
    "df['event_id_q_sum_energymc_diff'] = df['energymc'] - df['event_id_q_sum']\n",
    "df['event_id_q_sum_energymc_prop'] = df['event_id_q_sum'] / (df['energymc'] + 1e-5)\n",
    "\n",
    "## 据说x, y是探测器的坐标，结合起来可以标识一个探测器\n",
    "df['detector'] = df['x'].astype('str') + '_' + df['y'].astype('str')\n"
   ]
  },
  {
   "cell_type": "code",
   "execution_count": null,
   "metadata": {},
   "outputs": [],
   "source": [
    "                    \n",
    "train_df = df[~df['flag'].isna()].reset_index(drop=True)\n",
    "test_df = df[df['flag'].isna()].reset_index(drop=True)"
   ]
  },
  {
   "cell_type": "code",
   "execution_count": null,
   "metadata": {},
   "outputs": [],
   "source": [
    "## 五折目标编码\n",
    "skf = StratifiedKFold(n_splits=5, shuffle=True, random_state=2020)\n",
    "for f in tqdm(['detector', 'terror']):\n",
    "    train_df[f + '_target_enc'] = 0\n",
    "    test_df[f + '_target_enc'] = 0\n",
    "    for i, (trn_idx, val_idx) in enumerate(skf.split(train_df, train_df['flag'])):\n",
    "        trn_x = train_df[[f, 'flag']].iloc[trn_idx].reset_index(drop=True)\n",
    "        val_x = train_df[[f]].iloc[val_idx].reset_index(drop=True)\n",
    "        enc_df = trn_x.groupby(f, as_index=False)['flag'].agg({f + '_target_enc': 'mean'})\n",
    "        val_x = val_x.merge(enc_df, on=f, how='left')\n",
    "        test_x = test_df[[f]].merge(enc_df, on=f, how='left')\n",
    "        val_x[f + '_target_enc'] = val_x[f + '_target_enc'].fillna(train_df['flag'].mean())\n",
    "        test_x[f + '_target_enc'] = test_x[f + '_target_enc'].fillna(train_df['flag'].mean())\n",
    "        train_df.loc[val_idx, f + '_target_enc'] = val_x[f + '_target_enc'].values\n",
    "        test_df[f + '_target_enc'] += test_x[f + '_target_enc'].values / skf.n_splits"
   ]
  },
  {
   "cell_type": "code",
   "execution_count": null,
   "metadata": {},
   "outputs": [],
   "source": [
    "cols = [f for f in train_df.columns if f not in ['z', 'hit_id', 'event_id', 'detector', 'flag']]\n",
    "labels = train_df['flag'].values\n",
    "train_df = train_df[cols]\n",
    "sub = test_df[['hit_id', 'event_id']]\n",
    "test_df = test_df[cols]"
   ]
  },
  {
   "cell_type": "code",
   "execution_count": null,
   "metadata": {},
   "outputs": [],
   "source": [
    "print(train_df.shape)\n",
    "oof = np.zeros(train_df.shape[0])\n",
    "sub['flag_pred'] = 0\n",
    "feat_imp_df = pd.DataFrame({'feats': train_df.columns.values, 'imp': 0})\n",
    "clf = LGBMClassifier(\n",
    "    learning_rate=0.05,\n",
    "    n_estimators=3000,\n",
    "    num_leaves=2047,\n",
    "    subsample=0.8,\n",
    "    colsample_bytree=0.8,\n",
    "    random_state=2020,\n",
    "    metric=None\n",
    ")\n",
    "for i, (trn_idx, val_idx) in enumerate(skf.split(train_df, labels)):\n",
    "    print('--------------------- {} fold ---------------------'.format(i))\n",
    "    t = time.time()\n",
    "    trn_x, trn_y = train_df.iloc[trn_idx].reset_index(drop=True), labels[trn_idx]\n",
    "    val_x, val_y = train_df.iloc[val_idx].reset_index(drop=True), labels[val_idx]\n",
    "    clf.fit(\n",
    "        trn_x, trn_y,\n",
    "        eval_set=[(val_x, val_y)],\n",
    "        eval_metric='auc',\n",
    "        early_stopping_rounds=50,\n",
    "        verbose=20\n",
    "    )\n",
    "    feat_imp_df['imp'] += clf.feature_importances_ / skf.n_splits\n",
    "    oof[val_idx] += clf.predict_proba(val_x)[:, 1]\n",
    "    sub['flag_pred'] += clf.predict_proba(test_df)[:, 1] / skf.n_splits\n",
    "    print('runtime: {}\\n'.format(time.time() - t))\n",
    "\n",
    "auc = roc_auc_score(labels, oof)\n",
    "print('\\ncv auc:', auc)\n"
   ]
  },
  {
   "cell_type": "code",
   "execution_count": null,
   "metadata": {},
   "outputs": [],
   "source": [
    "## 特征重要性\n",
    "plt.figure(figsize=(15, 35))\n",
    "feat_imp_df = feat_imp_df.sort_values('imp').reset_index(drop=True)\n",
    "sns.barplot(x='imp', y='feats', data=feat_imp_df)"
   ]
  },
  {
   "cell_type": "code",
   "execution_count": null,
   "metadata": {},
   "outputs": [],
   "source": [
    "                    \n",
    "## 生成sub\n",
    "\n",
    "sub = sub.sort_values('hit_id').reset_index(drop=True)\n",
    "sub.to_csv('sub_prob_{}.csv'.format(auc), index=False)\n",
    "\n",
    "event_df = event_df[['event_id', 'nhitreal']].drop_duplicates('event_id').reset_index(drop=True)\n",
    "sub = sub.merge(event_df, on='event_id', how='left')\n",
    "sub['rank'] = sub.groupby('event_id')['flag_pred'].rank(ascending=False, method='first')\n",
    "sub['flag_pred'] = ((sub['nhitreal'] + 2) >= sub['rank']).astype('int')\n",
    "\n",
    "sub[['hit_id', 'flag_pred', 'event_id']].to_csv('sub_{}_{}.csv'.format(auc, sub['flag_pred'].mean()), index=False)"
   ]
  },
  {
   "cell_type": "code",
   "execution_count": null,
   "metadata": {},
   "outputs": [],
   "source": []
  }
 ],
 "metadata": {
  "kernelspec": {
   "display_name": "Python 3",
   "language": "python",
   "name": "python3"
  },
  "language_info": {
   "codemirror_mode": {
    "name": "ipython",
    "version": 3
   },
   "file_extension": ".py",
   "mimetype": "text/x-python",
   "name": "python",
   "nbconvert_exporter": "python",
   "pygments_lexer": "ipython3",
   "version": "3.7.4"
  }
 },
 "nbformat": 4,
 "nbformat_minor": 1
}
