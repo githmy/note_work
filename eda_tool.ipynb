{
 "cells": [
  {
   "cell_type": "markdown",
   "metadata": {},
   "source": [
    "Importing Libraries"
   ]
  },
  {
   "cell_type": "code",
   "execution_count": null,
   "metadata": {},
   "outputs": [],
   "source": [
    "import os\n",
    "import gc\n",
    "import sys\n",
    "import numpy as np\n",
    "import pandas as pd\n",
    "import matplotlib.pyplot as plt\n",
    "import matplotlib.gridspec as gridspec\n",
    "import matplotlib as mpl\n",
    "import seaborn as sns\n",
    "import plotly.express as px\n",
    "import plotly.graph_objects as go\n",
    "import shap\n",
    "%matplotlib inline\n",
    "sns.set_style('darkgrid')\n",
    "pd.set_option('display.max_columns', 140)\n",
    "from sklearn.preprocessing import StandardScaler as scale\n",
    "from sklearn.decomposition import PCA\n",
    "from sklearn.cluster import k_means\n",
    "from sklearn.cluster import KMeans\n",
    "from sklearn.preprocessing import RobustScaler\n",
    "from sklearn.ensemble import RandomForestClassifier\n",
    "# from sklearn.preprocessing import StandardScaler\n",
    "# from sklearn.linear_model import LogisticRegression as log\n",
    "# from sklearn.model_selection import train_test_split as split \n",
    "# from sklearn.model_selection import GridSearchCV as Grid\n",
    "# from sklearn.naive_bayes import GaussianNB as GNB\n",
    "# from sklearn.svm import SVC\n",
    "# from sklearn.linear_model import LinearRegression as linear\n",
    "# import xgboost as xgb\n",
    "# from sklearn.decomposition import IncrementalPCA as ipca\n",
    "# from sklearn.metrics import (roc_auc_score, precision_score, recall_score, f1_score,\n",
    "#                              confusion_matrix, accuracy_score, roc_curve, auc)\n",
    "\n",
    "mpl.rcParams[u'font.sans-serif'] = u'SimHei'\n",
    "mpl.rcParams[u'axes.unicode_minus'] = False\n",
    "sns.set_style(\"darkgrid\",{\"font.sans-serif\":['simhei','Droid Sans Fallback']})"
   ]
  },
  {
   "cell_type": "markdown",
   "metadata": {},
   "source": [
    "Loading Data"
   ]
  },
  {
   "cell_type": "code",
   "execution_count": null,
   "metadata": {},
   "outputs": [],
   "source": [
    "bpath = os.path.join(\"..\",\"nocode\",\"fin\")\n",
    "trainfile = os.path.join(bpath,\"train.csv\")\n",
    "\n",
    "features_columns = [\"feature_%d\" % i for i in range(130)]\n",
    "columns_dtypes = {}\n",
    "for column in features_columns:\n",
    "    columns_dtypes[column] = \"float16\"\n",
    "columns_dtypes[\"resp_1\"] = \"float16\"\n",
    "columns_dtypes[\"resp_2\"] = \"float16\"\n",
    "columns_dtypes[\"resp_3\"] = \"float16\"\n",
    "columns_dtypes[\"resp_4\"] = \"float16\"\n",
    "columns_dtypes[\"resp\"] = \"float16\"\n",
    "columns_dtypes[\"feature_0\"] = \"int8\"\n",
    "columns_dtypes[\"date\"] = \"int16\"\n",
    "columns_dtypes[\"ts_id\"] = \"int32\"\n",
    "df = pd.read_csv(trainfile, header=0, encoding=\"utf8\", dtype=columns_dtypes)\n",
    "### 减小内存的方法，已实现导入定义类型的方式\n",
    "# df.feature_0 = df.feature_0.astype(np.int8)\n",
    "# df.date= df.date.astype(np.int16)\n",
    "# df.ts_id = df.ts_id.astype(np.int32)"
   ]
  },
  {
   "cell_type": "code",
   "execution_count": null,
   "metadata": {},
   "outputs": [],
   "source": [
    "#saving the original dataset length\n",
    "org_len = len(df)\n",
    "df.head(2)"
   ]
  },
  {
   "cell_type": "code",
   "execution_count": null,
   "metadata": {},
   "outputs": [],
   "source": [
    "df.info()"
   ]
  },
  {
   "cell_type": "code",
   "execution_count": null,
   "metadata": {},
   "outputs": [],
   "source": [
    "for i in df:\n",
    "    if df[i].dtype == np.float16:\n",
    "        # 列值近似于0 的数量 占比 大于 千分之一 的列名\n",
    "        if (((df[i] < .0001) & (df[i] > -.0001)).mean()) > .001:\n",
    "            print(i)\n",
    "df.info()"
   ]
  },
  {
   "cell_type": "code",
   "execution_count": null,
   "metadata": {},
   "outputs": [],
   "source": [
    "for i in df:\n",
    "    if df[i].dtype == np.float16:\n",
    "        if (((df[i] < .0001) & (df[i] > -.0001)).mean()) < .001:\n",
    "            df[i] = df[i].astype(np.float32)\n",
    "            gc.collect()\n",
    "df.info()"
   ]
  },
  {
   "cell_type": "markdown",
   "metadata": {},
   "source": [
    "#### 确保数据按日期存储"
   ]
  },
  {
   "cell_type": "code",
   "execution_count": null,
   "metadata": {},
   "outputs": [],
   "source": [
    "df.sort_values(by= ['date','ts_id'],inplace=True)"
   ]
  },
  {
   "cell_type": "markdown",
   "metadata": {},
   "source": [
    "Adding target"
   ]
  },
  {
   "cell_type": "code",
   "execution_count": null,
   "metadata": {},
   "outputs": [],
   "source": [
    "df['action'] = np.where(df['resp'] > 0,1,0)\n",
    "df.action = df.action.astype('category')\n",
    "df.info()"
   ]
  },
  {
   "cell_type": "markdown",
   "metadata": {},
   "source": [
    "## EDA  \n",
    "### 一般的数据分析\n",
    "#### 收益分析"
   ]
  },
  {
   "cell_type": "code",
   "execution_count": null,
   "metadata": {},
   "outputs": [],
   "source": [
    "fig = plt.figure(figsize=(16,6))\n",
    "ax = plt.subplot(1,1,1)\n",
    "df.groupby('date')[['resp_1', 'resp_2', 'resp_3', 'resp_4', 'resp']].sum().cumsum().plot(ax=ax)\n",
    "plt.title('不同收益的累积和',fontsize=18)\n",
    "plt.xlabel('Date',fontsize=14)\n",
    "plt.legend(fontsize=12);"
   ]
  },
  {
   "cell_type": "markdown",
   "metadata": {},
   "source": [
    "#### 前 100 天收益更好,  resp_4 累计最好， resp_1 累计最差。\n",
    "#### 每个 收益 的均值"
   ]
  },
  {
   "cell_type": "code",
   "execution_count": null,
   "metadata": {},
   "outputs": [],
   "source": [
    "fig = px.line(df.groupby('date')[['resp_1', 'resp_2', 'resp_3', 'resp_4','resp']].mean(),\n",
    "              x= df.groupby('date')[['resp_1', 'resp_2', 'resp_3', 'resp_4','resp']].mean().index,\n",
    "              y= ['resp_1', 'resp_2', 'resp_3', 'resp_4','resp'],\n",
    "              title= '\\n每天的平均收益')\n",
    "fig.layout.xaxis.title = 'Day' \n",
    "fig.layout.yaxis.title = '平均收益'\n",
    "fig.show()"
   ]
  },
  {
   "cell_type": "markdown",
   "metadata": {},
   "source": [
    "#### 收益分位数 均值方差峰度"
   ]
  },
  {
   "cell_type": "code",
   "execution_count": null,
   "metadata": {},
   "outputs": [],
   "source": [
    "fig,((ax11,ax12,ax13),(ax21,ax22,ax23),(ax31,ax32,ax33),(ax41,ax42,ax43),(ax51,ax52,ax53)) = plt.subplots(5,3,figsize=(18,24))\n",
    "plt.subplots_adjust(hspace=0.35)\n",
    "ax11.hist(df.resp,bins=150, color='darkblue',alpha=.6)\n",
    "ax11.axvline(df.resp.mean()+df.resp.std(),color='darkorange',linestyle=':',linewidth=2)\n",
    "ax11.axvline(df.resp.mean()-df.resp.std(),color='darkorange',linestyle=':',linewidth=2)\n",
    "\n",
    "df.resp.plot.hist(bins= 150,ax=ax12,color='darkblue',alpha=.6)\n",
    "ax12.axvline(df.resp.mean()+df.resp.std(),color='darkorange',linestyle=':',linewidth=2)\n",
    "ax12.axvline(df.resp.mean()-df.resp.std(),color='darkorange',linestyle=':',linewidth=2)\n",
    "ax12.set_xlim(-.08,.08)\n",
    "\n",
    "ax13.hist(df.resp,bins=150, color='darkblue',alpha=.6)\n",
    "ax13.set_yscale('log')\n",
    "skew= round(df.resp.skew(),4)\n",
    "kurt= round(df.resp.kurtosis())\n",
    "std1= round((((df.resp.mean()-df.resp.std()) < df.resp ) & (df.resp < (df.resp.mean()+df.resp.std()))).mean()*100,2)\n",
    "props = dict(boxstyle='round', facecolor='white', alpha=0.5)\n",
    "ax11.text(.02,.96,'μ = {}\\nstd = {}\\nskewness = {}\\nkurtosis = {}\\n% values in 1 std = {}%'.format(round(df.resp.mean(),4),round(df.resp.std(),4),skew,kurt,std1),\n",
    "         transform=ax11.transAxes, verticalalignment='top',bbox=props,fontsize=10)\n",
    "ax11.set_title('Resp Hist Normal scale',fontsize=14)\n",
    "ax12.set_title('Resp Hist normal scale zoomed',fontsize=14)\n",
    "ax13.set_title('Resp Hist with freq on a log scale',fontsize=14);\n",
    "ax11.set_xlabel('')\n",
    "ax11.set_ylabel('')\n",
    "ax12.set_xlabel('')\n",
    "ax12.set_ylabel('')\n",
    "ax13.set_xlabel('')\n",
    "ax13.set_ylabel('')\n",
    "\n",
    "ax21.hist(df.resp_1,bins=150,color='darkblue',alpha=.6)\n",
    "ax21.axvline(df.resp_1.mean()+df.resp_1.std(),color='darkorange',linestyle=':',linewidth=2)\n",
    "ax21.axvline(df.resp_1.mean()-df.resp_1.std(),color='darkorange',linestyle=':',linewidth=2)\n",
    "df.resp_1.plot.hist(bins= 150,ax=ax22,color='darkblue',alpha=.6)\n",
    "ax22.axvline(df.resp_1.mean()+df.resp_1.std(),color='darkorange',linestyle=':',linewidth=2)\n",
    "ax22.axvline(df.resp_1.mean()-df.resp_1.std(),color='darkorange',linestyle=':',linewidth=2)\n",
    "ax22.set_xlim(-.08,.08)\n",
    "ax23.hist(df.resp_1,bins=150,color='darkblue',alpha=.6)\n",
    "ax23.set_yscale('log')\n",
    "skew= round(df.resp_1.skew(),4)\n",
    "kurt= round(df.resp_1.kurtosis())\n",
    "std1= round((((df.resp_1.mean()-df.resp_1.std()) < df.resp_1 ) & (df.resp_1 < (df.resp_1.mean()+df.resp_1.std()))).mean()*100,2)\n",
    "ax21.text(.02,.96,'μ = {}\\nstd = {}\\nskewness = {}\\nkurtosis = {}\\n% values in 1 std = {}%'.format(round(df.resp_1.mean(),4),round(df.resp_1.std(),4),skew,kurt,std1),\n",
    "         transform=ax21.transAxes, verticalalignment='top',bbox=props,fontsize=10)\n",
    "ax21.set_title('Resp_1 Hist Normal scale',fontsize=14)\n",
    "ax22.set_title('Resp_1 Hist normal scale zoomed',fontsize=14)\n",
    "ax23.set_title('Resp_1 Hist with freq on a log scale',fontsize=14);\n",
    "ax21.set_xlabel('')\n",
    "ax21.set_ylabel('')\n",
    "ax22.set_xlabel('')\n",
    "ax22.set_ylabel('')\n",
    "ax23.set_xlabel('')\n",
    "ax23.set_ylabel('')\n",
    "\n",
    "ax31.hist(df.resp_2,bins=150,color='darkblue',alpha=.6)\n",
    "ax31.axvline(df.resp_2.mean()+df.resp_2.std(),color='darkorange',linestyle=':',linewidth=2)\n",
    "ax31.axvline(df.resp_2.mean()-df.resp_2.std(),color='darkorange',linestyle=':',linewidth=2)\n",
    "df.resp_2.plot.hist(bins= 150,ax=ax32,color='darkblue',alpha=.6)\n",
    "ax32.axvline(df.resp_2.mean()+df.resp_2.std(),color='darkorange',linestyle=':',linewidth=2)\n",
    "ax32.axvline(df.resp_2.mean()-df.resp_2.std(),color='darkorange',linestyle=':',linewidth=2)\n",
    "ax32.set_xlim(-.08,.08)\n",
    "ax33.hist(df.resp_2,bins=150, color='darkblue',alpha=.6)\n",
    "ax33.set_yscale('log')\n",
    "skew= round(df.resp_2.skew(),4)\n",
    "kurt= round(df.resp_2.kurtosis())\n",
    "std1= round((((df.resp_2.mean()-df.resp_2.std()) < df.resp_2 ) & (df.resp_2 < (df.resp_2.mean()+df.resp_2.std()))).mean()*100,2)\n",
    "ax31.text(.02,.96,'μ = {}\\nstd = {}\\nskewness = {}\\nkurtosis = {}\\n% values in 1 std = {}%'.format(round(df.resp_2.mean(),4),round(df.resp_2.std(),4),skew,kurt,std1),\n",
    "         transform=ax31.transAxes, verticalalignment='top',bbox=props,fontsize=10)\n",
    "ax31.set_title('Resp_2 Hist Normal scale',fontsize=14)\n",
    "ax32.set_title('Resp_2 Hist normal scale zoomed',fontsize=14)\n",
    "ax33.set_title('Resp_2 Hist with freq on a log scale',fontsize=14);\n",
    "ax31.set_xlabel('')\n",
    "ax31.set_ylabel('')\n",
    "ax32.set_xlabel('')\n",
    "ax32.set_ylabel('')\n",
    "ax33.set_xlabel('')\n",
    "ax33.set_ylabel('')\n",
    "\n",
    "ax41.hist(df.resp_3, color='darkblue',alpha=.6,bins=150)\n",
    "ax41.axvline(df.resp_3.mean()+df.resp_3.std(),color='darkorange',linestyle=':',linewidth=2)\n",
    "ax41.axvline(df.resp_3.mean()-df.resp_3.std(),color='darkorange',linestyle=':',linewidth=2)\n",
    "df.resp_3.plot.hist(bins=150, color='darkblue',alpha=.6,ax=ax42)\n",
    "ax42.axvline(df.resp_3.mean()+df.resp_3.std(),color='darkorange',linestyle=':',linewidth=2)\n",
    "ax42.axvline(df.resp_3.mean()-df.resp_3.std(),color='darkorange',linestyle=':',linewidth=2)\n",
    "ax42.set_xlim(-.08,.08)\n",
    "ax43.hist(df.resp_3, color='darkblue',alpha=.6,bins=150)\n",
    "ax43.set_yscale('log')\n",
    "skew= round(df.resp_3.skew(),4)\n",
    "kurt= round(df.resp_3.kurtosis())\n",
    "std1= round((((df.resp_3.mean()-df.resp_3.std()) < df.resp_3 ) & (df.resp_3 < (df.resp_3.mean()+df.resp_3.std()))).mean()*100,2)\n",
    "ax41.text(.02,.96,'μ = {}\\nstd = {}\\nskewness = {}\\nkurtosis = {}\\n% values in 1 std = {}%'.format(round(df.resp_3.mean(),4),round(df.resp_3.std(),4),skew,kurt,std1),\n",
    "         transform=ax41.transAxes, verticalalignment='top',bbox=props,fontsize=10)\n",
    "ax41.set_title('Resp_3 Hist Normal scale',fontsize=14)\n",
    "ax42.set_title('Resp_3 Hist normal scale zoomed',fontsize=14)\n",
    "ax43.set_title('Resp_3 Hist with freq on a log scale',fontsize=14);\n",
    "ax41.set_xlabel('')\n",
    "ax41.set_ylabel('')\n",
    "ax42.set_xlabel('')\n",
    "ax42.set_ylabel('')\n",
    "ax43.set_xlabel('')\n",
    "ax43.set_ylabel('')\n",
    "\n",
    "ax51.hist(df.resp_4,bins=150, color='darkblue',alpha=.6)\n",
    "ax51.axvline(df.resp_4.mean()+df.resp_4.std(),color='darkorange',linestyle=':',linewidth=2)\n",
    "ax51.axvline(df.resp_4.mean()-df.resp_4.std(),color='darkorange',linestyle=':',linewidth=2)\n",
    "df.resp_4.plot.hist(bins= 150,color='darkblue',alpha=.6,ax=ax52)\n",
    "ax52.axvline(df.resp_4.mean()+df.resp_4.std(),color='darkorange',linestyle=':',linewidth=2)\n",
    "ax52.axvline(df.resp_4.mean()-df.resp_4.std(),color='darkorange',linestyle=':',linewidth=2)\n",
    "ax52.set_xlim(-.08,.08)\n",
    "ax53.hist(df.resp_4,bins=150,color='darkblue',alpha=.6)\n",
    "ax53.set_yscale('log')\n",
    "skew= round(df.resp_4.skew(),4)\n",
    "kurt= round(df.resp_4.kurtosis())\n",
    "std1= round((((df.resp_4.mean()-df.resp_4.std()) < df.resp_4 ) & (df.resp_4 < (df.resp_4.mean()+df.resp_4.std()))).mean()*100,2)\n",
    "ax51.text(.02,.96,'μ = {}\\nstd = {}\\nskewness = {}\\nkurtosis = {}\\n% values in 1 std = {}%'.format(round(df.resp_4.mean(),4),round(df.resp_4.std(),4),skew,kurt,std1),\n",
    "         transform=ax51.transAxes, verticalalignment='top',bbox=props,fontsize=10)\n",
    "ax51.set_title('Resp_4 Hist Normal scale',fontsize=14)\n",
    "ax52.set_title('Resp_4 Hist normal scale zoomed',fontsize=14)\n",
    "ax53.set_title('Resp_4 Hist with freq on a log scale',fontsize=14)\n",
    "ax51.set_xlabel('')\n",
    "ax51.set_ylabel('')\n",
    "ax52.set_xlabel('')\n",
    "ax52.set_ylabel('')\n",
    "ax53.set_xlabel('')\n",
    "ax53.set_ylabel('')\n",
    "\n",
    "fig.suptitle('RESPs Historgrams on Different Scales',fontsize=18,y=.92)"
   ]
  },
  {
   "cell_type": "markdown",
   "metadata": {},
   "source": [
    "#### 不同 周期收益 的相关性\n",
    "##### 可以看到对角线上是各个属性的直方图（分布图），而非对角线上是两个不同属性之间的相关图，"
   ]
  },
  {
   "cell_type": "code",
   "execution_count": null,
   "metadata": {},
   "outputs": [],
   "source": [
    "sns.pairplot(df[['resp_1', 'resp_2', 'resp_3', 'resp_4', 'resp']],corner=True)"
   ]
  },
  {
   "cell_type": "markdown",
   "metadata": {},
   "source": [
    "##### Resp ， Resp_4 高相关。 Resp_1 ， Resp_2高相关。之前的 标准差分布 显示 Resp 跟长期高风险更相关。\n",
    "### 投资基础知识\n",
    "##### 高风险股票，低风险债券。长期可以高风险 组合方式，短期低风险模式。 \n",
    "### 日期 \n",
    "##### 查看天数"
   ]
  },
  {
   "cell_type": "code",
   "execution_count": null,
   "metadata": {},
   "outputs": [],
   "source": [
    "df.date.unique()"
   ]
  },
  {
   "cell_type": "markdown",
   "metadata": {},
   "source": [
    "### 交易日 每年 252 : 253 天\n",
    "https://en.wikipedia.org/wiki/Trading_day\n",
    "### 查看 每天的 收益量 和 次数"
   ]
  },
  {
   "cell_type": "code",
   "execution_count": null,
   "metadata": {},
   "outputs": [],
   "source": [
    "fig = px.area(data_frame= df.groupby('date')[['resp']].count(),title='每天交易数')\n",
    "fig.update_traces( showlegend = False)\n",
    "fig.layout.xaxis.title = 'Day' \n",
    "fig.layout.yaxis.title = '交易次数'\n",
    "fig.show()"
   ]
  },
  {
   "cell_type": "code",
   "execution_count": null,
   "metadata": {
    "scrolled": false
   },
   "outputs": [],
   "source": [
    "fig = px.area(data_frame= df.groupby('date')[['resp']].sum(),title='每日收益和')\n",
    "fig.update_traces( showlegend = False)\n",
    "fig.layout.xaxis.title = 'Day' \n",
    "fig.layout.yaxis.title = '收益和'\n",
    "fig.show()"
   ]
  },
  {
   "cell_type": "markdown",
   "metadata": {},
   "source": [
    "### 收益有波动\n",
    "#### 20天的移动标准差"
   ]
  },
  {
   "cell_type": "code",
   "execution_count": null,
   "metadata": {},
   "outputs": [],
   "source": [
    "date_df = df.groupby('date')[['resp']].mean()\n",
    "std20 = []\n",
    "for i in range(len(date_df)):\n",
    "    if i <20:\n",
    "        std20.append(np.nan)\n",
    "    else:\n",
    "        moving_std = date_df['resp'][i-20:i].std()\n",
    "        std20.append(moving_std)\n",
    "date_df['moving_std'] = std20\n",
    "date_df.tail(2)"
   ]
  },
  {
   "cell_type": "code",
   "execution_count": null,
   "metadata": {
    "scrolled": true
   },
   "outputs": [],
   "source": [
    "fig = px.line(data_frame=date_df,y=['resp','moving_std'],title='收益 & 每天 20次交易的移动标准差 平均收益')\n",
    "fig.layout.xaxis.title = 'Day' \n",
    "fig.layout.yaxis.title = '平均收益'\n",
    "fig.show()"
   ]
  },
  {
   "cell_type": "markdown",
   "metadata": {},
   "source": [
    "### 每天收益的 标准差， 标准差 的 Kernel Density Estimation kde 核密度估计"
   ]
  },
  {
   "cell_type": "code",
   "execution_count": null,
   "metadata": {
    "scrolled": true
   },
   "outputs": [],
   "source": [
    "fig, (ax1,ax2) = plt.subplots(2,1,figsize=(14,12))\n",
    "df.groupby('date')[['resp_1', 'resp_2', 'resp_3', 'resp_4']].std().plot(ax=ax1,color=['steelblue','darkorange','red','green'],alpha=.8)\n",
    "df.groupby('date')[['resp_1', 'resp_2', 'resp_3', 'resp_4']].std().plot.kde(ax=ax2)\n",
    "fig.suptitle('Resp\\'s Std',fontsize=18,y=.96)\n",
    "ax2.set_xlabel('')\n",
    "ax1.set_xlabel('')\n",
    "ax2.set_title('kde of each resp std', fontsize=14)\n",
    "ax1.set_title('每个交易日的 收益的标准差',fontsize=14)"
   ]
  },
  {
   "cell_type": "markdown",
   "metadata": {},
   "source": [
    "#### 收益的标注差 随收益周期的增加 而增加\n",
    "#### 标准差前 100天有些高, 80天后模型改善。\n",
    "### 权重"
   ]
  },
  {
   "cell_type": "code",
   "execution_count": null,
   "metadata": {},
   "outputs": [],
   "source": [
    "fig = plt.figure(figsize=(18,7))\n",
    "grid =  gridspec.GridSpec(2,3,figure=fig,hspace=.3,wspace=.2)\n",
    "ax1 = fig.add_subplot(grid[0, 0])\n",
    "ax2 = fig.add_subplot(grid[0, 1])\n",
    "ax3 = fig.add_subplot(grid[1, 0])\n",
    "ax4 = fig.add_subplot(grid[1, 1])\n",
    "ax5 = fig.add_subplot(grid[:, 2])\n",
    "sns.boxplot(x = df.weight,width=.5,ax=ax1)\n",
    "ax2.hist(df.weight, color='#404788ff',alpha=.6, bins= list([-.05] + list(10**np.arange(-2,2.24,.05))))\n",
    "ax2.set_xscale('symlog')\n",
    "ax2.set_xlim(-.05,227)\n",
    "sns.boxplot(x = df.weight[df.weight != 0],width=.5,ax=ax3)\n",
    "ax1.set_title('含0权重',fontsize=14)\n",
    "ax3.set_title('不含0权重',fontsize=14)\n",
    "ax2.set_title('含0权重(log)',fontsize=14)\n",
    "ax4.set_title('不含0权重(log)',fontsize=14)\n",
    "props = dict(boxstyle='round', facecolor='white', alpha=0.4)\n",
    "ax1.text(.2,.9,'μ = {}    std = {}\\nmin = {}    max = {}'.format(round(df.weight.mean(),3),round(df.weight.std(),3),round(df.weight.min(),3),round(df.weight.max(),3)),\n",
    "         transform=ax1.transAxes, verticalalignment='top',bbox=props,fontsize=12)\n",
    "ax3.text(.2,.9,'μ = {}        std = {}\\nmin = {}    max = {}'.format(round(df.weight[df.weight != 0].mean(),3),round(df.weight[df.weight != 0].std(),3),\n",
    "                                                              round(df.weight[df.weight != 0].min(),3),round(df.weight[df.weight != 0].max(),3)),\n",
    "         transform=ax3.transAxes, verticalalignment='top',bbox=props,fontsize=12)\n",
    "ax4.hist(df.weight[df.weight !=0],color='#404788ff',alpha=.6,bins=10**np.arange(-2.16,2.24,.05))\n",
    "ax4.set_xscale('log')\n",
    "ax4.set_xticks((.01,.03,.1,.3,1,3,10,30,100))\n",
    "ax4.set_xticklabels((.01,.03,.1,.3,1,3,10,30,100))\n",
    "ax5.pie(((df.weight==0).mean(),(1-(df.weight==0).mean())),startangle=300,wedgeprops=dict(width=0.5),\n",
    "        labels=('Zeros\\n{}%'.format(round((df.weight==0).mean()*100,2)),'Nonzeros\\n{}%'.format(round((1-(df.weight==0).mean())*100,2))),\n",
    "        textprops={'fontsize': 12},colors=['#404788ff','#55c667ff'])\n",
    "ax5.set_title('含0 VS 不含0权重',fontsize=14)\n",
    "ax1.set_xlabel('')\n",
    "ax2.set_xlabel('')\n",
    "ax3.set_xlabel('')\n",
    "ax2.set_ylabel('')\n",
    "ax5.set_ylabel('')\n",
    "ax4.set_xlabel('')"
   ]
  },
  {
   "cell_type": "code",
   "execution_count": null,
   "metadata": {},
   "outputs": [],
   "source": [
    "fig,ax = plt.subplots(1,2,figsize=(12,6))\n",
    "plt.subplot(1,2,1)\n",
    "plt.title(\"Distribution of weight\")\n",
    "sns.distplot(train['weight'],color='blue',kde=True,bins=100)\n",
    "\n",
    "t0 = train[train['action']==0]\n",
    "t1 =  train[train['action']==1]\n",
    "plt.subplot(1,2,2)\n",
    "sns.distplot(train['weight'],color='blue',kde=True,bins=100)\n",
    "sns.distplot(t0['weight'],color='blue',kde=True,bins=100,label='action = 0')\n",
    "sns.distplot(t1['weight'],color='red',kde=True,bins=100,label='action = 1')\n",
    "plt.legend()"
   ]
  },
  {
   "cell_type": "code",
   "execution_count": null,
   "metadata": {},
   "outputs": [],
   "source": [
    "fig = plt.figure(figsize=(15,10))\n",
    "fig.suptitle('Nonzero weights histogram in different scales',fontsize=18)\n",
    "ax1 = plt.subplot(3,1,1)\n",
    "ax1.hist(df.weight[df.weight !=0],color='darkblue',alpha=.7, bins=10**np.arange(-2.16,2.23,.05))\n",
    "plt.xscale('log')\n",
    "plt.xticks((.01,.03,.1,.3,1,3,10,30,100),(.01,.03,.1,.3,1,3,10,30,100))\n",
    "ax2 = plt.subplot(3,1,2)\n",
    "sns.distplot(df.weight[df.weight != 0], color='darkblue', bins=400, ax=ax2) \n",
    "ax3 = plt.subplot(3,1,3)\n",
    "ax3.hist(df.weight[(df.weight !=0) & (df.weight < 3.197 )],color='darkblue',alpha=.7, bins=200)\n",
    "ax3.set_xlim(0,3.3)\n",
    "ax2.set_xlabel('') \n",
    "ax1.set_title('All values (log-scale)',fontsize=14)\n",
    "ax2.set_title('kde of the distribution',fontsize=14)\n",
    "ax3.set_title('75% of the Values',fontsize=14)\n",
    "plt.subplots_adjust(hspace=.4)"
   ]
  },
  {
   "cell_type": "markdown",
   "metadata": {},
   "source": [
    "### 探查 离群点"
   ]
  },
  {
   "cell_type": "code",
   "execution_count": null,
   "metadata": {},
   "outputs": [],
   "source": [
    "fig, (ax1,ax2) = plt.subplots(2,1,figsize=(16,8))\n",
    "fig.suptitle('离群的数据 的权重',fontsize=18)\n",
    "sns.boxplot(df.weight,width=.5, ax=ax1)\n",
    "ax1.axvline(np.percentile(df.weight,95), color= 'green',label='95.0%',linestyle=':',linewidth=3)\n",
    "ax1.axvline(np.percentile(df.weight,99), color= 'darkblue',label='99.0%',linestyle=':',linewidth=3)\n",
    "ax1.axvline(np.percentile(df.weight,99.9), color= 'darkorange',label='99.9%',linestyle=':',linewidth=3)\n",
    "ax1.axvline(np.percentile(df.weight,99.99), color= 'magenta',label='99.99%',linestyle=':',linewidth=3)\n",
    "ax1.legend(fontsize=13)\n",
    "sns.boxplot(df.weight[df.weight !=0],width=.5, ax=ax2)\n",
    "ax2.axvline(np.percentile(df.weight[df.weight !=0],95), color= 'green',label='95.0%',linestyle=':',linewidth=3)\n",
    "ax2.axvline(np.percentile(df.weight[df.weight !=0],99), color= 'darkblue',label='99.0%',linestyle=':',linewidth=3)\n",
    "ax2.axvline(np.percentile(df.weight[df.weight !=0],99.9), color= 'darkorange',label='99.9%',linestyle=':',linewidth=3)\n",
    "ax2.axvline(np.percentile(df.weight[df.weight !=0],99.99), color= 'magenta',label='99.99%',linestyle=':',linewidth=3)\n",
    "ax2.legend(fontsize=13)\n",
    "ax1.set_title('所有数据权重', fontsize= 14)\n",
    "ax2.set_title('非零数据权重', fontsize= 14)\n",
    "ax1.set_xlabel('')\n",
    "ax2.set_xlabel('')"
   ]
  },
  {
   "cell_type": "code",
   "execution_count": null,
   "metadata": {},
   "outputs": [],
   "source": [
    "sns.scatterplot(data=df, x='resp',y='weight', color= 'blue', alpha=.3)\n",
    "plt.title('收益 vs 权重\\n相关系数={}'.format(round(df.weight.corr(df.resp),4)))"
   ]
  },
  {
   "cell_type": "markdown",
   "metadata": {},
   "source": [
    "#### 权重 收益 非线性相关。但高权重低收益。\n",
    "### 特征 的 数据分析\n",
    "#### 加载特征的csv"
   ]
  },
  {
   "cell_type": "code",
   "execution_count": null,
   "metadata": {},
   "outputs": [],
   "source": [
    "df_f = pd.read_csv(os.path.join(bpath,\"features.csv\"))\n",
    "df_f.head(5)"
   ]
  },
  {
   "cell_type": "code",
   "execution_count": null,
   "metadata": {},
   "outputs": [],
   "source": [
    "fig = px.bar(df_f.set_index('feature').T.sum(), title='每个特征的标签数')\n",
    "fig.layout.xaxis.tickangle = 300\n",
    "fig.update_traces( showlegend = False)\n",
    "fig.layout.xaxis. dtick = 5\n",
    "fig.layout.xaxis.title = ''\n",
    "fig.layout.yaxis.title = ''\n",
    "fig.show()"
   ]
  },
  {
   "cell_type": "markdown",
   "metadata": {},
   "source": [
    "### 查看空值"
   ]
  },
  {
   "cell_type": "code",
   "execution_count": null,
   "metadata": {},
   "outputs": [],
   "source": [
    "fig = px.bar(x = df.isnull().sum().index,y= df.isnull().sum().values,title= '查看空值')\n",
    "fig.layout.xaxis.tickangle = 300\n",
    "fig.layout.xaxis. dtick = 5\n",
    "fig.layout.yaxis. dtick = 100000\n",
    "fig.layout.xaxis.title = ''\n",
    "fig.layout.yaxis.title = ''\n",
    "fig.layout.xaxis.showgrid = True\n",
    "fig.show()"
   ]
  },
  {
   "cell_type": "markdown",
   "metadata": {},
   "source": [
    "### 特征空值 超过10 %的 特征名"
   ]
  },
  {
   "cell_type": "code",
   "execution_count": null,
   "metadata": {},
   "outputs": [],
   "source": [
    "nulls = df.isnull().sum()\n",
    "nulls_list = list(nulls[nulls >(0.1 * len(df))].index)\n",
    "nulls_list"
   ]
  },
  {
   "cell_type": "code",
   "execution_count": null,
   "metadata": {},
   "outputs": [],
   "source": [
    "#### 特征 和 行为"
   ]
  },
  {
   "cell_type": "code",
   "execution_count": null,
   "metadata": {},
   "outputs": [],
   "source": [
    "features = [col for col in train.columns if 'feature' in col]\n",
    "t0 = train.loc[train['action'] == 0]\n",
    "t1 = train.loc[train['action'] == 1]\n",
    "plt.figure(figsize=(16,6))\n",
    "plt.title(\"特征每行的均值\")\n",
    "sns.distplot(t0[features].mean(axis=1),color=\"red\", kde=True,bins=120, label='target = 0')\n",
    "sns.distplot(t1[features].mean(axis=1),color=\"blue\", kde=True,bins=120, label='target = 1')\n",
    "plt.legend()\n",
    "plt.show()"
   ]
  },
  {
   "cell_type": "code",
   "execution_count": null,
   "metadata": {},
   "outputs": [],
   "source": [
    "plt.figure(figsize=(16,6))\n",
    "plt.title(\"特征每列的均值\")\n",
    "sns.distplot(t0[features].mean(axis=0),color=\"green\", kde=True,bins=120, label='target = 0')\n",
    "sns.distplot(t1[features].mean(axis=0),color=\"darkblue\", kde=True,bins=120, label='target = 1')\n",
    "plt.legend()\n",
    "plt.show()"
   ]
  },
  {
   "cell_type": "code",
   "execution_count": null,
   "metadata": {},
   "outputs": [],
   "source": [
    "features = [col for col in train.columns if 'feature' in col]\n",
    "t0 = train.loc[train['action'] == 0]\n",
    "t1 = train.loc[train['action'] == 1]\n",
    "plt.figure(figsize=(16,6))\n",
    "plt.title(\"特征 每行的标准差\")\n",
    "sns.distplot(t0[features].std(axis=1),color=\"red\", kde=True,bins=120, label='target = 0')\n",
    "sns.distplot(t1[features].std(axis=1),color=\"blue\", kde=True,bins=120, label='target = 1')\n",
    "plt.legend()\n",
    "plt.show()"
   ]
  },
  {
   "cell_type": "code",
   "execution_count": null,
   "metadata": {},
   "outputs": [],
   "source": [
    "plt.figure(figsize=(16,6))\n",
    "plt.title(\"特征 每列的标准差\")\n",
    "sns.distplot(t0[features].std(axis=0),color=\"green\", kde=True,bins=120, label='target = 0')\n",
    "sns.distplot(t1[features].std(axis=0),color=\"darkblue\", kde=True,bins=120, label='target = 1')\n",
    "plt.legend()\n",
    "plt.show()"
   ]
  },
  {
   "cell_type": "code",
   "execution_count": null,
   "metadata": {},
   "outputs": [],
   "source": [
    "t0 = train.loc[train['action'] == 0]\n",
    "t1 = train.loc[train['action'] == 1]\n",
    "plt.figure(figsize=(16,6))\n",
    "plt.title(\"特征 每行的最小值\")\n",
    "sns.distplot(t0[features].min(axis=1),color=\"orange\", kde=True,bins=120, label='target = 0')\n",
    "sns.distplot(t1[features].min(axis=1),color=\"darkblue\", kde=True,bins=120, label='target = 1')\n",
    "plt.legend()\n",
    "plt.show()"
   ]
  },
  {
   "cell_type": "code",
   "execution_count": null,
   "metadata": {},
   "outputs": [],
   "source": [
    "plt.figure(figsize=(16,6))\n",
    "plt.title(\"特征 每列的最小值\")\n",
    "sns.distplot(t0[features].min(axis=0),color=\"red\", kde=True,bins=120, label='target = 0')\n",
    "sns.distplot(t1[features].min(axis=0),color=\"blue\", kde=True,bins=120, label='target = 1')\n",
    "plt.legend()\n",
    "plt.show()"
   ]
  },
  {
   "cell_type": "markdown",
   "metadata": {},
   "source": [
    "#### 特征的 累计方差率"
   ]
  },
  {
   "cell_type": "code",
   "execution_count": null,
   "metadata": {},
   "outputs": [],
   "source": [
    "plt.figure(figsize=(8,5))\n",
    "pca = PCA().fit(df[features].iloc[:,1:].fillna(df.fillna(df.mean())))\n",
    "plt.plot(np.cumsum(pca.explained_variance_ratio_),linewidth=4)\n",
    "plt.axhline(y=0.9, color='r', linestyle='-')\n",
    "plt.xlabel(\"特征 的 数量\")\n",
    "plt.ylabel(\"特征的 累计方差 率 之和\")\n",
    "plt.show()"
   ]
  },
  {
   "cell_type": "code",
   "execution_count": null,
   "metadata": {},
   "outputs": [],
   "source": [
    "rb = RobustScaler()\n",
    "data = rb.fit_transform(df[features].iloc[:,1:].fillna(df[features].fillna(df[features].mean())))\n",
    "## 训练集中每个属性的中位数\n",
    "# rb.center_\n",
    "## 训练集中每个属性的四分位间距\n",
    "# rb.scale_\n",
    "data = PCA(n_components=2).fit_transform(data)\n",
    "plt.figure(figsize=(7,7))\n",
    "sns.scatterplot(data[:,0],data[:,1],hue=train['action'])\n",
    "plt.xlabel('pca comp 1')\n",
    "plt.ylabel('pca comp 2')"
   ]
  },
  {
   "cell_type": "code",
   "execution_count": null,
   "metadata": {},
   "outputs": [],
   "source": [
    "X_std = df[[f'feature_{i}' for i in range(1,130)]].fillna(df.mean()).values\n",
    "sse = []\n",
    "list_k = list(range(1, 10))\n",
    "\n",
    "for k in list_k:\n",
    "    km = KMeans(n_clusters=k)\n",
    "    km.fit(data)\n",
    "    sse.append(km.inertia_)\n",
    "\n",
    "# Plot sse against k\n",
    "plt.figure(figsize=(6, 6))\n",
    "plt.plot(list_k, sse, '-o')\n",
    "plt.xlabel(r'聚类数量 *k*')\n",
    "plt.ylabel('方差距离之和')"
   ]
  },
  {
   "cell_type": "code",
   "execution_count": null,
   "metadata": {},
   "outputs": [],
   "source": [
    "knn = KMeans(n_clusters=2)\n",
    "labels=knn.fit_predict(data)\n",
    "sns.scatterplot(data[:,0],data[:,1],hue=labels)"
   ]
  },
  {
   "cell_type": "code",
   "execution_count": null,
   "metadata": {},
   "outputs": [],
   "source": [
    "target='action'\n",
    "cols_drop = list(np.setdiff1d(df.columns,test.columns))+['ts_id','date']\n",
    "\n",
    "clf = RandomForestClassifier()\n",
    "clf.fit(df.drop(cols_drop,axis=1).fillna(-999),df['action'])\n",
    "top=20\n",
    "top_features = np.argsort(clf.feature_importances_)[::-1][:top]\n",
    "feature_names = df.drop(cols_drop,axis=1).iloc[:,top_features].columns\n",
    "plt.figure(figsize=(8,7))\n",
    "sns.barplot(clf.feature_importances_[top_features],feature_names,color='blue')\n"
   ]
  },
  {
   "cell_type": "code",
   "execution_count": null,
   "metadata": {},
   "outputs": [],
   "source": [
    "top=8\n",
    "top_features = np.argsort(clf.feature_importances_)[::-1][:top]\n",
    "top_features = df.drop(cols_drop,axis=1).iloc[:,top_features].columns\n",
    "\n",
    "def plot_features(df1,target='action',features=[]):\n",
    "    \n",
    "    i = 0\n",
    "    sns.set_style('whitegrid')\n",
    "    plt.figure()\n",
    "    fig, ax = plt.subplots(4,2,figsize=(14,14))\n",
    "    \n",
    "    \n",
    "    for feature in features:\n",
    "        i += 1\n",
    "        plt.subplot(4,2,i)\n",
    "        sns.distplot(df1[df1[target]==1][feature].values,label='1')\n",
    "        sns.distplot(df1[df1[target]==0][feature].values,label='0')\n",
    "        plt.xlabel(feature, fontsize=9)\n",
    "        plt.legend()\n",
    "    \n",
    "    plt.show();\n",
    "    \n",
    "plot_features(df,features=top_features)"
   ]
  },
  {
   "cell_type": "code",
   "execution_count": null,
   "metadata": {},
   "outputs": [],
   "source": [
    "sns.pairplot(df[list(feature_names[:10])+['action']],hue='action')"
   ]
  },
  {
   "cell_type": "code",
   "execution_count": null,
   "metadata": {},
   "outputs": [],
   "source": [
    "explainer = shap.TreeExplainer(clf)\n",
    "X = df.drop(cols_drop,axis=1).fillna(-999).sample(1000)\n",
    "shap_values = explainer.shap_values(X)\n",
    "shap.summary_plot(shap_values, X, plot_type=\"bar\")"
   ]
  },
  {
   "cell_type": "code",
   "execution_count": null,
   "metadata": {},
   "outputs": [],
   "source": [
    "shap.dependence_plot('feature_35', shap_values[1], X, display_features=X.sample(1000))"
   ]
  },
  {
   "cell_type": "code",
   "execution_count": null,
   "metadata": {},
   "outputs": [],
   "source": [
    "temp = pd.DataFrame(df.isna().sum().sort_values(ascending=False)*100/df.shape[0],columns=['missing %']).head(20)\n",
    "temp.style.background_gradient(cmap='Purples')"
   ]
  },
  {
   "cell_type": "markdown",
   "metadata": {},
   "source": [
    "#### ts_id vs 收益"
   ]
  },
  {
   "cell_type": "code",
   "execution_count": null,
   "metadata": {},
   "outputs": [],
   "source": [
    "def plot_resp():\n",
    "    fig,ax = plt.subplots(2,2,figsize=(12,10))\n",
    "    i=1\n",
    "    for col in ([f'resp_{i}' for i in range(1,5)]):\n",
    "        \n",
    "        plt.subplot(2,2,i)\n",
    "        plt.plot(train.ts_id.values,train.resp.values,label='resp',color='blue')\n",
    "        plt.plot(train.ts_id.values,train[f'resp_{i}'].values,label=f'resp_{i}',color='red')\n",
    "        plt.xlabel('ts_id')\n",
    "        plt.legend()\n",
    "        \n",
    "        i+=1\n",
    "    plt.show()\n",
    "    \n",
    "plot_resp()"
   ]
  },
  {
   "cell_type": "markdown",
   "metadata": {},
   "source": [
    "#### 总收益 和 分收益"
   ]
  },
  {
   "cell_type": "code",
   "execution_count": null,
   "metadata": {},
   "outputs": [],
   "source": [
    "plt.figure(figsize=(10,10))\n",
    "plt.scatter(train.resp.values,train.resp_1.values,color='red',label='resp_1')\n",
    "plt.scatter(train.resp.values,train.resp_2.values,color='blue',label='resp_2')\n",
    "plt.scatter(train.resp.values,train.resp_3.values,color='orange',label='resp_3')\n",
    "plt.scatter(train.resp.values,train.resp_4.values,color='green',label='resp_4')\n",
    "plt.xlabel(\"resp\")\n",
    "plt.ylabel('other resp variables')\n",
    "plt.legend()"
   ]
  },
  {
   "cell_type": "markdown",
   "metadata": {},
   "source": [
    "#### 收益 累计值"
   ]
  },
  {
   "cell_type": "code",
   "execution_count": null,
   "metadata": {},
   "outputs": [],
   "source": [
    "plt.figure(figsize=(8,6))\n",
    "for col in [f'resp_{i}' for i in range(1,5)]:\n",
    "    plt.plot(train[col].cumsum().values,label=col)   \n",
    "plt.legend()\n",
    "plt.title(\"resp in different time horizons\")\n",
    "plt.show()"
   ]
  },
  {
   "cell_type": "markdown",
   "metadata": {},
   "source": [
    "##### 查看空值间的相关性"
   ]
  },
  {
   "cell_type": "code",
   "execution_count": null,
   "metadata": {},
   "outputs": [],
   "source": [
    "df[['resp','resp_1','resp_2','resp_3','resp_4','weight']+nulls_list].corr().style.background_gradient(cmap='coolwarm')"
   ]
  },
  {
   "cell_type": "markdown",
   "metadata": {},
   "source": [
    "#### 空值超过10% 且跟收益的相关性不强，删除掉"
   ]
  },
  {
   "cell_type": "code",
   "execution_count": null,
   "metadata": {},
   "outputs": [],
   "source": [
    "df.drop(columns=nulls_list,inplace=True)"
   ]
  },
  {
   "cell_type": "markdown",
   "metadata": {},
   "source": [
    "#### 剩下的空值的标准差系数"
   ]
  },
  {
   "cell_type": "code",
   "execution_count": null,
   "metadata": {},
   "outputs": [],
   "source": [
    "(df.iloc[:,7:-2].std() / df.iloc[:,7:-2].mean()).head(5)"
   ]
  },
  {
   "cell_type": "markdown",
   "metadata": {},
   "source": [
    "#### 因为值在零附近，标准差系数不相关\n",
    "### 俯瞰特征分布"
   ]
  },
  {
   "cell_type": "code",
   "execution_count": null,
   "metadata": {},
   "outputs": [],
   "source": [
    "df.iloc[:,7:-2].hist(bins=100,figsize=(20,74),layout=(29,4))"
   ]
  },
  {
   "cell_type": "markdown",
   "metadata": {},
   "source": [
    "#####  均值的水平盒子格点 ，深入理解t特征分布。\n",
    "##### 由于非常中心化，用 0.1%:99.9% 标记极端值。"
   ]
  },
  {
   "cell_type": "code",
   "execution_count": null,
   "metadata": {},
   "outputs": [],
   "source": [
    "fig = plt.figure(figsize=(20,80))\n",
    "fig.suptitle('Features Box plot with 0.1% 99.9% whiskers',fontsize=22, y=.89)\n",
    "grid =  gridspec.GridSpec(29,4,figure=fig,hspace=.5,wspace=.05)\n",
    "featstr = [i for i in df.columns[7:-2]]\n",
    "counter = 0\n",
    "for i in range(29):\n",
    "    for j in range(4):\n",
    "        subf = fig.add_subplot(grid[i, j]);\n",
    "        sns.boxplot(x= df[featstr[counter]],saturation=.5,color= 'blue', ax= subf,width=.5,whis=(.1,99.9))\n",
    "        subf.axvline(df[featstr[counter]].mean(),color= 'darkorange', label='Mean', linestyle=':',linewidth=3)\n",
    "        subf.set_xlabel('')\n",
    "        subf.set_title('{}'.format(featstr[counter]),fontsize=16)\n",
    "        counter += 1\n",
    "        gc.collect()\n",
    "plt.show()"
   ]
  },
  {
   "cell_type": "markdown",
   "metadata": {},
   "source": [
    "#### 大量的离群点影响分布\n",
    "#### 由于非常中心化，空值用中心点代替."
   ]
  },
  {
   "cell_type": "code",
   "execution_count": null,
   "metadata": {},
   "outputs": [],
   "source": [
    "df.fillna(df.mean(axis=0),inplace=True)"
   ]
  },
  {
   "cell_type": "markdown",
   "metadata": {},
   "source": [
    "### 特征成长变化"
   ]
  },
  {
   "cell_type": "code",
   "execution_count": null,
   "metadata": {},
   "outputs": [],
   "source": [
    "df.groupby('date')[featstr].mean().cumsum().plot(layout=(29,4),subplots=True,figsize=(20,82),xlabel='')\n",
    "fig = plt.gcf()\n",
    "fig.text(0.5, 0.19, 'Date',ha='center', fontsize = 24)\n",
    "fig.suptitle('每天特征均值的积分',fontsize=24,y=.886)"
   ]
  },
  {
   "cell_type": "markdown",
   "metadata": {},
   "source": [
    "##### 许多线性增长的，有些线性下降，有些震荡。\n",
    "#### 特征的相关性"
   ]
  },
  {
   "cell_type": "code",
   "execution_count": null,
   "metadata": {},
   "outputs": [],
   "source": [
    "corr = df.iloc[:,7:-2].corr()"
   ]
  },
  {
   "cell_type": "code",
   "execution_count": null,
   "metadata": {},
   "outputs": [],
   "source": [
    "corr.style.background_gradient(cmap='coolwarm')"
   ]
  },
  {
   "cell_type": "markdown",
   "metadata": {},
   "source": [
    "#### 特征相关的热图"
   ]
  },
  {
   "cell_type": "code",
   "execution_count": null,
   "metadata": {},
   "outputs": [],
   "source": [
    "fig = plt.figure(figsize=(18,12))\n",
    "ax = plt.subplot(1,1,1)\n",
    "sns.heatmap(corr,ax= ax, cmap='coolwarm')"
   ]
  },
  {
   "cell_type": "markdown",
   "metadata": {},
   "source": [
    "#### 许多组相关的，有些割裂了组相关\n"
   ]
  },
  {
   "cell_type": "code",
   "execution_count": null,
   "metadata": {},
   "outputs": [],
   "source": [
    "featstr2 = [ i for i in featstr if i not in ['feature_41','feature_64']]\n",
    "len(featstr)"
   ]
  },
  {
   "cell_type": "code",
   "execution_count": null,
   "metadata": {},
   "outputs": [],
   "source": [
    "fig = plt.figure(figsize=(22,44))\n",
    "grid =  gridspec.GridSpec(12,5,figure=fig,hspace=.5,wspace=.2)\n",
    "counter = 1\n",
    "for i in range(12):\n",
    "    for j in range(5):\n",
    "        if counter == 113:\n",
    "            break\n",
    "        subf = fig.add_subplot(grid[i, j]);\n",
    "        sns.scatterplot(x= df[featstr2[counter]], y = df[featstr2[counter+1]], ax= subf);\n",
    "        cor = round(df[featstr2[counter]].corr(df[featstr2[counter+1]]) * 100,2)\n",
    "        subf.set_xlabel('')\n",
    "        subf.set_ylabel('')\n",
    "        subf.set_title('{} & {}\\nCorrelation = {}%'.format(featstr2[counter],featstr2[counter+1],cor),fontsize=14)\n",
    "        counter += 2\n",
    "        gc.collect()"
   ]
  },
  {
   "cell_type": "markdown",
   "metadata": {},
   "source": [
    "#### 列出高度组相关的特征\n",
    "#### 从: [feature_19, feature_20, feature_21, feature_22, feature_23, feature_24, feature_25, feature_26, feature_29] 开始，因为组相关性强。"
   ]
  },
  {
   "cell_type": "code",
   "execution_count": null,
   "metadata": {},
   "outputs": [],
   "source": [
    "plt.figure(figsize=(12,6)) \n",
    "sns.heatmap(df[featstr2[15:23]].corr(),center=0,cmap='coolwarm',annot=True,cbar=False)"
   ]
  },
  {
   "cell_type": "code",
   "execution_count": null,
   "metadata": {},
   "outputs": [],
   "source": [
    "sns.pairplot(df[featstr2[15:23]],corner=True)"
   ]
  },
  {
   "cell_type": "markdown",
   "metadata": {},
   "source": [
    "#### 虽然相关系数很强，但非完全线性，受离群点影响.\n",
    "### 再次检查和其他组的相关性"
   ]
  },
  {
   "cell_type": "code",
   "execution_count": null,
   "metadata": {},
   "outputs": [],
   "source": [
    "plt.figure(figsize=(12,6)) \n",
    "sns.heatmap(df[featstr2[23:31]].corr(),center=0,cmap='coolwarm',annot=True,cbar=False)"
   ]
  },
  {
   "cell_type": "code",
   "execution_count": null,
   "metadata": {},
   "outputs": [],
   "source": [
    "sns.pairplot(df[featstr2[23:31]],corner=True)"
   ]
  },
  {
   "cell_type": "markdown",
   "metadata": {},
   "source": [
    "#### 跟其他组类似，负相关性很强."
   ]
  },
  {
   "cell_type": "code",
   "execution_count": null,
   "metadata": {},
   "outputs": [],
   "source": [
    "plt.figure(figsize=(18,6)) \n",
    "sns.heatmap(df[featstr2[15:31]].corr(),center=0,cmap='coolwarm',annot=True,cbar=False)"
   ]
  },
  {
   "cell_type": "markdown",
   "metadata": {},
   "source": [
    "### 离群点\n",
    "####  特征的 均值"
   ]
  },
  {
   "cell_type": "code",
   "execution_count": null,
   "metadata": {},
   "outputs": [],
   "source": [
    "fig = px.bar(df[featstr].mean(), title='特征均值')\n",
    "fig.layout.xaxis.tickangle = 300\n",
    "fig.update_traces(showlegend = False)\n",
    "fig.layout.xaxis. dtick = 5\n",
    "fig.layout.xaxis.title = ''\n",
    "fig.layout.yaxis.title = ''\n",
    "fig.show()"
   ]
  },
  {
   "cell_type": "code",
   "execution_count": null,
   "metadata": {},
   "outputs": [],
   "source": [
    "fig = px.bar(df[featstr].max(), title='特征最大值')\n",
    "fig.layout.xaxis.tickangle = 300\n",
    "fig.update_traces(showlegend = False)\n",
    "fig.layout.xaxis. dtick = 5\n",
    "fig.layout.xaxis.title = ''\n",
    "fig.layout.yaxis.title = ''\n",
    "fig.show()"
   ]
  },
  {
   "cell_type": "code",
   "execution_count": null,
   "metadata": {},
   "outputs": [],
   "source": [
    "fig = px.bar(df[featstr].min(), title='特征最小值')\n",
    "fig.layout.xaxis.tickangle = 300\n",
    "fig.update_traces(showlegend = False)\n",
    "fig.layout.xaxis. dtick = 5\n",
    "fig.layout.xaxis.title = ''\n",
    "fig.layout.yaxis.title = ''\n",
    "fig.show()"
   ]
  },
  {
   "cell_type": "code",
   "execution_count": null,
   "metadata": {},
   "outputs": [],
   "source": [
    "fig, (ax1,ax2,ax3)= plt.subplots(3,1,figsize=(10,12))\n",
    "plt.subplots_adjust(hspace=.3)\n",
    "sns.distplot(df[featstr].max(),ax= ax1 )\n",
    "sns.distplot(df[featstr].min(),ax= ax2)\n",
    "sns.distplot(df[featstr].mean(),ax= ax3)\n",
    "fig.suptitle('最大值，均值，最小值 的分布',fontsize=16)\n",
    "ax1.set_title('最大值 的分布',fontsize=14)\n",
    "ax1.text(.82,.56,'std = {}'.format(round(df[featstr].max().std(),2)),transform=ax1.transAxes, verticalalignment='top',bbox=props,fontsize=12)\n",
    "ax2.set_title('最小值 的分布',fontsize=14)\n",
    "ax2.text(.82,.56,'std = {}'.format(round(df[featstr].min().std(),2)),transform=ax2.transAxes, verticalalignment='top',bbox=props,fontsize=12)\n",
    "ax3.set_title('均值 的分布',fontsize=14)\n",
    "ax3.text(.82,.56,'std = {}'.format(round(df[featstr].mean().std(),2)),transform=ax3.transAxes, verticalalignment='top',bbox=props,fontsize=12)"
   ]
  },
  {
   "cell_type": "markdown",
   "metadata": {},
   "source": [
    "### 统计性的展示离群点"
   ]
  },
  {
   "cell_type": "code",
   "execution_count": null,
   "metadata": {},
   "outputs": [],
   "source": [
    "for i in featstr[1:]:\n",
    "    print('{}\\n0.1%:99.9% are between: {}\\nmax: {}\\nmin: {}\\n75% are under: {}'.format(i,np.percentile(df[i],(.1,99.9)), df[i].max(),df[i].min(),np.percentile(df[i],75)),\n",
    "         '\\n===============================')"
   ]
  },
  {
   "cell_type": "code",
   "execution_count": null,
   "metadata": {
    "scrolled": true
   },
   "outputs": [],
   "source": [
    "df[(df.feature_56== df.feature_56.max())|(df.feature_57== df.feature_57.max())|(df.feature_58== df.feature_58.max()) | (df.feature_59== df.feature_59.max())]"
   ]
  },
  {
   "cell_type": "markdown",
   "metadata": {},
   "source": [
    "##### 可以推出数据集的 极端离群点 跟邻列  高度多线性相关。\n",
    "#### 大胆删除超过99.9%的离群数据\n",
    "##### 为了避免在循环数据集时删除更多的数据，我们将为每一个特性制作一个99.9%标记的列表，我们还将创建一个负异常值列表“使用.1%标记”，以便稍后研究。"
   ]
  },
  {
   "cell_type": "code",
   "execution_count": null,
   "metadata": {},
   "outputs": [],
   "source": [
    "n999 = [ np.percentile(df[i],99.9) for i in featstr[1:]]\n",
    "n001 = [ np.percentile(df[i],.1) for i in featstr[1:]]"
   ]
  },
  {
   "cell_type": "code",
   "execution_count": null,
   "metadata": {},
   "outputs": [],
   "source": [
    "for i, j in enumerate(featstr[1:]):\n",
    "    df = df[df[j] < n999[i]]\n",
    "    gc.collect()"
   ]
  },
  {
   "cell_type": "code",
   "execution_count": null,
   "metadata": {},
   "outputs": [],
   "source": [
    "str(round(((org_len - len(df))/org_len)*100,2))+'%'"
   ]
  },
  {
   "cell_type": "code",
   "execution_count": null,
   "metadata": {},
   "outputs": [],
   "source": [
    "fig = px.bar(df[featstr].max(), title='特征最大值')\n",
    "fig.layout.xaxis.tickangle = 300\n",
    "fig.update_traces(showlegend = False)\n",
    "fig.layout.xaxis. dtick = 5\n",
    "fig.layout.xaxis.title = ''\n",
    "fig.layout.yaxis.title = ''\n",
    "fig.show()"
   ]
  },
  {
   "cell_type": "markdown",
   "metadata": {},
   "source": [
    "### 订制 一个盒子格点图  1% : 99.9% 范围."
   ]
  },
  {
   "cell_type": "code",
   "execution_count": null,
   "metadata": {},
   "outputs": [],
   "source": [
    "fig = plt.figure(figsize=(20,80))\n",
    "fig.suptitle('特征盒子图 0.1% 99.9% ',fontsize=22, y=.89)\n",
    "grid =  gridspec.GridSpec(29,4,figure=fig,hspace=.5,wspace=.05)\n",
    "counter = 0\n",
    "for i in range(29):\n",
    "    for j in range(4):\n",
    "        subf = fig.add_subplot(grid[i, j]);\n",
    "        sns.boxplot(x= df[featstr[counter]],saturation=.5,color= 'blue', ax= subf,width=.5,whis=(.1,99.9));\n",
    "        subf.set_xlabel('')\n",
    "        subf.set_title('{}'.format(featstr[counter]),fontsize=16)\n",
    "        counter += 1\n",
    "        gc.collect()"
   ]
  },
  {
   "cell_type": "markdown",
   "metadata": {},
   "source": [
    "#### 数据集仍然有许多特别是负值的异常值，因为只去除了正的，所以具有对称异常值的特征有一些左偏异常值。\n",
    "#### 比较两个箱线图（移除正异常值之前和之后），我们可以注意到从特征_3到特征_40的特征，过去具有对称的异常值，现在在修剪后变为具有极端负异常值\n",
    "### 手动修剪这些特征的异常值\n"
   ]
  },
  {
   "cell_type": "code",
   "execution_count": null,
   "metadata": {},
   "outputs": [],
   "source": [
    "for i,j in zip(featstr[1:][2:34],n001[2:34]):\n",
    "    df = df[df[i] > j]\n",
    "    gc.collect()"
   ]
  },
  {
   "cell_type": "markdown",
   "metadata": {},
   "source": [
    "#### 下面的代码显示了到目前为止由于清理而丢失的观察值的比率"
   ]
  },
  {
   "cell_type": "code",
   "execution_count": null,
   "metadata": {},
   "outputs": [],
   "source": [
    "str(round(((org_len - len(df))/org_len)*100,2))+'%'"
   ]
  },
  {
   "cell_type": "markdown",
   "metadata": {},
   "source": [
    "#### 剔除异常值, 并考虑 收益 特征的kde和直方图"
   ]
  },
  {
   "cell_type": "code",
   "execution_count": null,
   "metadata": {},
   "outputs": [],
   "source": [
    "fig = plt.figure(figsize=(20,80))\n",
    "fig.suptitle('KDE plot of Features',fontsize=24,transform =fig.transFigure, y=.89)\n",
    "grid =  gridspec.GridSpec(29,4,figure=fig,hspace=.5,wspace=.01)\n",
    "counter = 0\n",
    "for i in range(29):\n",
    "    for j in range(4):\n",
    "        subf = fig.add_subplot(grid[i, j]);\n",
    "        sns.distplot(df[df.action==0][featstr[counter]],bins= 100,label='Negative',\n",
    "                     color='darkorange', kde_kws={'linewidth':4},ax=subf)\n",
    "        sns.distplot(df[df.action!=0][featstr[counter]],bins= 100,label='Positive',\n",
    "                     color='blue', kde_kws={'alpha':.9,'linewidth':2},hist_kws={'alpha':.3},ax=subf)\n",
    "        subf.axvline(np.percentile(df[featstr[counter]],99.5),color= 'darkblue', label='99.5%', linestyle=':',linewidth=2)\n",
    "        subf.axvline(np.percentile(df[featstr[counter]],.5),color= 'red', label='0.5%', linestyle=':',linewidth=2)\n",
    "        subf.legend().set_visible(False)\n",
    "        subf.set_xlabel('')\n",
    "        subf.set_title('{}'.format(featstr[counter]),fontsize=16)\n",
    "        kurt=round(df[featstr[counter]].kurt(),2)\n",
    "        skew=round(df[featstr[counter]].skew(),2)\n",
    "        subf.text(.6,.92,'Kurt = {:.2f}\\nSkew = {:.2f}'.format(kurt ,skew),\n",
    "         transform=subf.transAxes, verticalalignment='top',bbox=props,fontsize=10)\n",
    "        counter += 1\n",
    "        gc.collect()\n",
    "handles, labels = subf.get_legend_handles_labels()\n",
    "fig.legend(handles, labels,ncol=4, bbox_to_anchor=(0.86, 0.893),fontsize=10,\n",
    "           title= 'Resp',title_fontsize=14,bbox_transform =fig.transFigure)"
   ]
  },
  {
   "cell_type": "markdown",
   "metadata": {},
   "source": [
    "#### 通过将 收益列 添加到features，\n",
    "##### 特征的直方图现在有更少的离群值和更正式的分布。\n",
    "##### 一些特征，有许多负异常值。一些特性，有许多正异常值。\n",
    "##### 特征分布不受 收益的影响。\n",
    "#### 特征与收益相关性\n",
    "##### 首先，我们制作了一个相关的pandas列，以确定resp和每个特征之间的关系"
   ]
  },
  {
   "cell_type": "code",
   "execution_count": null,
   "metadata": {},
   "outputs": [],
   "source": [
    "respcorr =  pd.Series([ df.resp.corr(df[i]) for i in featstr],index=featstr)"
   ]
  },
  {
   "cell_type": "code",
   "execution_count": null,
   "metadata": {},
   "outputs": [],
   "source": [
    "fig = px.bar(respcorr,color = respcorr, color_continuous_scale=['red','blue'], title= '特征 收益的相关性')\n",
    "fig.layout.xaxis.tickangle = 300\n",
    "fig.layout.xaxis. dtick = 5\n",
    "fig.layout.xaxis.title = ''\n",
    "fig.layout.yaxis.title = '皮尔逊 相关性'\n",
    "fig.update(layout_coloraxis_showscale=False)\n",
    "fig.show()"
   ]
  },
  {
   "cell_type": "markdown",
   "metadata": {},
   "source": [
    "#### 我们可以看到特征与s收益之间并没有真正的关联\n",
    "### 特征和权重\n",
    "#### 再做一系列与特征相关的权重，但只考虑了大于0的权重"
   ]
  },
  {
   "cell_type": "code",
   "execution_count": null,
   "metadata": {},
   "outputs": [],
   "source": [
    "wecorr = pd.Series([df[df.weight != 0].weight.corr(df[df.weight != 0][i]) for i in featstr],index=featstr)"
   ]
  },
  {
   "cell_type": "code",
   "execution_count": null,
   "metadata": {},
   "outputs": [],
   "source": [
    "wecorr.head(10)"
   ]
  },
  {
   "cell_type": "code",
   "execution_count": null,
   "metadata": {},
   "outputs": [],
   "source": [
    "fig = px.bar(wecorr,title= '特征 权重 的相关性 (未包含0权重)')\n",
    "fig.layout.xaxis.tickangle = 300\n",
    "fig.layout.xaxis. dtick = 5\n",
    "fig.layout.xaxis.title = ''\n",
    "fig.layout.yaxis.title = '皮尔逊 相关性'\n",
    "fig.update(layout_coloraxis_showscale=False)\n",
    "fig.update_layout(showlegend=False)\n",
    "fig.show()"
   ]
  },
  {
   "cell_type": "markdown",
   "metadata": {},
   "source": [
    "#### 用散点图来探索最大和最低的相关系数\n",
    "#### 从属于特征51的最高相关性开始"
   ]
  },
  {
   "cell_type": "code",
   "execution_count": null,
   "metadata": {},
   "outputs": [],
   "source": [
    "fig = plt.figure(figsize=(8,6))\n",
    "sns.scatterplot(df[df.weight != 0].weight,df[df.weight != 0].feature_51, color = 'darkblue', alpha=.3)\n",
    "plt.xlabel('Weight',fontsize=14)\n",
    "plt.ylabel('Featre_51',fontsize=14)\n",
    "plt.title('Feature_51 vs 权重\\n相关性 = {}%'.format(round(df[df.weight != 0].weight.corr(df[df.weight != 0].feature_51),4)*100),fontsize=16)"
   ]
  },
  {
   "cell_type": "markdown",
   "metadata": {},
   "source": [
    "#### 用散点图来探索最大和最低的相关系数\n",
    "### 从属于特征51的最高相关性开始，权重与特征51高度相关\n",
    "#### 检查最低相关系数\n"
   ]
  },
  {
   "cell_type": "code",
   "execution_count": null,
   "metadata": {},
   "outputs": [],
   "source": [
    "fig = plt.figure(figsize=(8,6))\n",
    "sns.scatterplot(df[df.weight != 0].weight,df[df.weight != 0].feature_126, color = 'darkblue', alpha=.3)\n",
    "plt.xlabel('Weight',fontsize=14)\n",
    "plt.ylabel('Featre_126',fontsize=14)\n",
    "plt.title('Feature_126 vs 权重\\n相关性{}%'.format(round(df[df.weight != 0].weight.corr(df[df.weight != 0].feature_126),4)*100),fontsize=16)"
   ]
  },
  {
   "cell_type": "markdown",
   "metadata": {},
   "source": [
    "#### 权重与特征126之间存在某种负相关，较弱\n",
    "### 查找特征0的唯一值"
   ]
  },
  {
   "cell_type": "code",
   "execution_count": null,
   "metadata": {},
   "outputs": [],
   "source": [
    "plt.figure(figsize=(7,5)) \n",
    "df.feature_0.value_counts().plot.bar(color='darkblue',alpha=.6,width=.5)\n",
    "plt.title('Feature_0',fontsize=18) \n",
    "plt.xticks(rotation=0,fontsize=14)"
   ]
  },
  {
   "cell_type": "markdown",
   "metadata": {},
   "source": [
    "#### Feature_0似乎是某种二进制特性\n",
    "### 考虑收益值"
   ]
  },
  {
   "cell_type": "code",
   "execution_count": null,
   "metadata": {
    "scrolled": true
   },
   "outputs": [],
   "source": [
    "plt.figure(figsize=(8,6)) \n",
    "sns.countplot(data=df, x='feature_0', hue='action',palette='viridis')\n",
    "plt.xticks(fontsize=14)\n",
    "plt.yticks(fontsize=13)\n",
    "plt.xlabel('Feature 0',fontsize=12)\n",
    "plt.title('Feature 0 and Resp', fontsize=18)\n",
    "plt.ylabel('')\n",
    "plt.xlim(-1,2)\n",
    "h, l = plt.gca().get_legend_handles_labels()\n",
    "plt.legend(h,['Negative','Positive'],ncol=1, fontsize=12, loc=3,title= 'Resp',title_fontsize=14)"
   ]
  },
  {
   "cell_type": "markdown",
   "metadata": {},
   "source": [
    "#### 特征0和收益没有明显的相关性\n",
    "### PCA & 聚类"
   ]
  },
  {
   "cell_type": "code",
   "execution_count": null,
   "metadata": {},
   "outputs": [],
   "source": [
    "scaler = scale()"
   ]
  },
  {
   "cell_type": "code",
   "execution_count": null,
   "metadata": {},
   "outputs": [],
   "source": [
    "scaler.fit(df[featstr[1:]])"
   ]
  },
  {
   "cell_type": "code",
   "execution_count": null,
   "metadata": {},
   "outputs": [],
   "source": [
    "df_pca = pd.DataFrame(scaler.transform(df[featstr[1:]]))\n",
    "df_pca.columns = featstr[1:]\n",
    "df_pca.head()"
   ]
  },
  {
   "cell_type": "markdown",
   "metadata": {},
   "source": [
    "#### 减少数据维度到14维"
   ]
  },
  {
   "cell_type": "code",
   "execution_count": null,
   "metadata": {},
   "outputs": [],
   "source": [
    "pca =  PCA(n_components=14).fit(df_pca)"
   ]
  },
  {
   "cell_type": "code",
   "execution_count": null,
   "metadata": {},
   "outputs": [],
   "source": [
    "df_pca = pd.DataFrame(pca.transform(df_pca))"
   ]
  },
  {
   "cell_type": "code",
   "execution_count": null,
   "metadata": {},
   "outputs": [],
   "source": [
    "pcs = ['pc'+str(i+1) for i in range(14)]"
   ]
  },
  {
   "cell_type": "markdown",
   "metadata": {},
   "source": [
    "##### 增加 权重 收益 行为 列"
   ]
  },
  {
   "cell_type": "code",
   "execution_count": null,
   "metadata": {},
   "outputs": [],
   "source": [
    "df_pca.columns = pcs\n",
    "df_pca['action'] = df.action.values\n",
    "df_pca['weight'] = df.weight.values\n",
    "df_pca['resp'] = df.resp.values\n",
    "df_pca.head()"
   ]
  },
  {
   "cell_type": "markdown",
   "metadata": {},
   "source": [
    "#### 探索PCA的配对图"
   ]
  },
  {
   "cell_type": "code",
   "execution_count": null,
   "metadata": {},
   "outputs": [],
   "source": [
    "sns.pairplot(data= df_pca,vars=pcs,hue='action')"
   ]
  },
  {
   "cell_type": "markdown",
   "metadata": {},
   "source": [
    "#### PCA的主成分不能有效的跟收益相关\n",
    "### 聚类\n",
    "#### PCA下的聚类"
   ]
  },
  {
   "cell_type": "code",
   "execution_count": null,
   "metadata": {},
   "outputs": [],
   "source": [
    "kmeans = k_means(n_clusters= 4, max_iter= 400, random_state= 0,X=df_pca[pcs])"
   ]
  },
  {
   "cell_type": "code",
   "execution_count": null,
   "metadata": {},
   "outputs": [],
   "source": [
    "df_pca['cluster'] = kmeans[1]\n",
    "df_pca['cluster'] = df_pca['cluster'].astype('category')\n",
    "df_pca.head(8)"
   ]
  },
  {
   "cell_type": "markdown",
   "metadata": {},
   "source": [
    "#### 聚类和收益的相关性"
   ]
  },
  {
   "cell_type": "code",
   "execution_count": null,
   "metadata": {},
   "outputs": [],
   "source": [
    "fig = plt.figure(figsize=(12,6))\n",
    "ax = plt.subplot(1,1,1)\n",
    "sns.countplot(data=df_pca,x='cluster',hue='action',ax=ax,palette='viridis')\n",
    "h, l = plt.gca().get_legend_handles_labels()\n",
    "plt.legend(h,['Negative','Positive'],ncol=1, fontsize=12, loc=2,title= 'Resp',title_fontsize=14)\n",
    "plt.xlim(-1,4)\n",
    "plt.xlabel('Clusters',fontsize=16)\n",
    "plt.ylabel('')\n",
    "plt.title('PCA Clusters and Resp', fontsize=18)"
   ]
  },
  {
   "cell_type": "markdown",
   "metadata": {},
   "source": [
    "#### 依然看不出相关性"
   ]
  },
  {
   "cell_type": "code",
   "execution_count": null,
   "metadata": {},
   "outputs": [],
   "source": []
  }
 ],
 "metadata": {
  "kernelspec": {
   "display_name": "Python 3",
   "language": "python",
   "name": "python3"
  },
  "language_info": {
   "codemirror_mode": {
    "name": "ipython",
    "version": 3
   },
   "file_extension": ".py",
   "mimetype": "text/x-python",
   "name": "python",
   "nbconvert_exporter": "python",
   "pygments_lexer": "ipython3",
   "version": "3.7.4"
  }
 },
 "nbformat": 4,
 "nbformat_minor": 2
}
