{
 "cells": [
  {
   "cell_type": "code",
   "execution_count": 1,
   "metadata": {},
   "outputs": [
    {
     "name": "stdout",
     "output_type": "stream",
     "text": [
      "/home/mla/qyb\n",
      "\n",
      "add_newdocs.py\n",
      "compat\n",
      "__config__.py\n",
      "conftest.py\n",
      "core\n",
      "ctypeslib.py\n",
      "_distributor_init.py\n",
      "distutils\n",
      "doc\n",
      "dual.py\n",
      "f2py\n",
      "fft\n",
      "_globals.py\n",
      "_import_tools.py\n",
      "__init__.py\n",
      "lib\n",
      "LICENSE.txt\n",
      "linalg\n",
      "ma\n",
      "matlib.py\n",
      "matrixlib\n",
      "polynomial\n",
      "__pycache__\n",
      "random\n",
      "setup.py\n",
      "testing\n",
      "tests\n",
      "version.py\n",
      "\n",
      "['\"\"\"\\n', 'Pytest configuration and fixtures for the Numpy test suite.\\n', '\"\"\"\\n', 'from __future__ import division, absolute_import, print_function\\n', '\\n', 'import warnings\\n', 'import pytest\\n', 'import numpy\\n', 'import importlib\\n', '\\n', 'from numpy.core._multiarray_tests import get_fpu_mode\\n', '\\n', '\\n', '_old_fpu_mode = None\\n', '_collect_results = {}\\n', '\\n', '\\n', '#FIXME when yield tests are gone.\\n', '@pytest.hookimpl()\\n', 'def pytest_itemcollected(item):\\n', '    \"\"\"\\n', '    Check FPU precision mode was not changed during test collection.\\n', '\\n', '    The clumsy way we do it here is mainly necessary because numpy\\n', '    still uses yield tests, which can execute code at test collection\\n', '    time.\\n', '    \"\"\"\\n', '    global _old_fpu_mode\\n', '\\n', '    mode = get_fpu_mode()\\n', '\\n', '    if _old_fpu_mode is None:\\n', '        _old_fpu_mode = mode\\n', '    elif mode != _old_fpu_mode:\\n', '        _collect_results[item] = (_old_fpu_mode, mode)\\n', '        _old_fpu_mode = mode\\n', '\\n', '\\n', '@pytest.fixture(scope=\"function\", autouse=True)\\n', 'def check_fpu_mode(request):\\n', '    \"\"\"\\n', '    Check FPU precision mode was not changed during the test.\\n', '    \"\"\"\\n', '    old_mode = get_fpu_mode()\\n', '    yield\\n', '    new_mode = get_fpu_mode()\\n', '\\n', '    if old_mode != new_mode:\\n', '        raise AssertionError(\"FPU precision mode changed from {0:#x} to {1:#x}\"\\n', '                             \" during the test\".format(old_mode, new_mode))\\n', '\\n', '    collect_result = _collect_results.get(request.node)\\n', '    if collect_result is not None:\\n', '        old_mode, new_mode = collect_result\\n', '        raise AssertionError(\"FPU precision mode changed from {0:#x} to {1:#x}\"\\n', '                             \" when collecting the test\".format(old_mode,\\n', '                                                                new_mode))\\n', '\\n', '\\n', '@pytest.fixture(autouse=True)\\n', 'def add_np(doctest_namespace):\\n', \"    doctest_namespace['np'] = numpy\\n\"]\n"
     ]
    }
   ],
   "source": [
    "import numpy as np # linear algebra\n",
    "import pandas as pd # data processing, CSV file I/O (e.g. pd.read_csv)\n",
    "import glob\n",
    "import copy\n",
    "import os\n",
    "from subprocess import check_output\n",
    "\n",
    "print(check_output([\"pwd\"]).decode(\"utf8\"))\n",
    "# print(check_output([\"ls\", \"~\"]).decode(\"utf8\"))\n",
    "fpath = \"/home/mla/anaconda2/envs/test36/lib/python3.6/subprocess.py\"\n",
    "dpath = \"/home/mla/anaconda2/envs/test36/lib/python3.6/site-packages/numpy/\"\n",
    "print(check_output([\"ls\", dpath]).decode(\"utf8\"))\n",
    "with open(os.path.join(dpath, \"conftest.py\"), \"rt\") as f:\n",
    "    conts = f.readlines()\n",
    "    print(conts)\n",
    "\n"
   ]
  }
 ],
 "metadata": {
  "kernelspec": {
   "display_name": "Python 3",
   "language": "python",
   "name": "python3"
  },
  "language_info": {
   "codemirror_mode": {
    "name": "ipython",
    "version": 3
   },
   "file_extension": ".py",
   "mimetype": "text/x-python",
   "name": "python",
   "nbconvert_exporter": "python",
   "pygments_lexer": "ipython3",
   "version": "3.6.2"
  }
 },
 "nbformat": 4,
 "nbformat_minor": 2
}
