{
 "cells": [
  {
   "cell_type": "code",
   "execution_count": 1,
   "metadata": {},
   "outputs": [],
   "source": [
    "import os\n",
    "from sklearn.model_selection import KFold, train_test_split, GridSearchCV\n",
    "from sklearn.model_selection import StratifiedKFold\n",
    "from sklearn import metrics\n",
    "from scipy.stats import entropy, kurtosis\n",
    "import xgboost as xgb\n",
    "import seaborn as sns\n",
    "from xgboost import plot_importance\n",
    "import warnings\n",
    "import matplotlib.pyplot as plt\n",
    "import pandas as pd\n",
    "from math import *\n",
    "import numpy as np\n",
    "\n",
    "pd.set_option('display.max_columns', None)\n",
    "from IPython.display import display\n",
    "warnings.filterwarnings('ignore')\n",
    "%matplotlib inline"
   ]
  },
  {
   "cell_type": "code",
   "execution_count": 2,
   "metadata": {},
   "outputs": [
    {
     "name": "stdout",
     "output_type": "stream",
     "text": [
      "       x      y  z        t   terror        q  flag  event_id  hit_id\n",
      "0 -142.5 -147.5  0  767.879  2.02966  1.05052     0         7       1\n",
      "(9473201, 9)\n",
      "   event_id  nhit  nhitreal  energymc  thetamc    phimc   xcmc    ycmc\n",
      "0         7   426        70   48348.9  63.1686  11.0982 -40.83  114.03\n",
      "(13315, 8)\n",
      "       x      y  z        t  terror        q  event_id  hit_id\n",
      "0 -142.5 -127.5  0  848.061  1.9984  1.15067         9       1\n",
      "(4086511, 8)\n"
     ]
    }
   ],
   "source": [
    "pathf = os.path.join(\"..\", \"data\", \"particles\")\n",
    "\n",
    "trainpd = pd.read_csv(os.path.join(pathf, \"train.csv\"))\n",
    "print(trainpd.head(1))\n",
    "trainshape = trainpd.shape\n",
    "print(trainshape)\n",
    "eventpd = pd.read_csv(os.path.join(pathf, \"event.csv\"))\n",
    "print(eventpd.head(1))\n",
    "print(eventpd.shape)\n",
    "testpd = pd.read_csv(os.path.join(pathf, \"test.csv\"))\n",
    "testshape = testpd.shape\n",
    "print(testpd.head(1))\n",
    "print(testpd.shape)\n",
    "\n",
    "data = pd.concat([trainpd, testpd], ignore_index=True)\n",
    "data = pd.merge(data, eventpd, on='event_id', how='left')\n"
   ]
  },
  {
   "cell_type": "code",
   "execution_count": 3,
   "metadata": {},
   "outputs": [],
   "source": [
    "#组合特征 \n",
    "#train表的特征与event表的特征交互\n",
    "data['fx'] = data['x']-data['xcmc']\n",
    "data['fy'] = data['y']-data['ycmc']\n",
    "data['fdis'] = np.sqrt(data['fx']**2+data['fy']**2)\n",
    "data['fscala'] = np.sin(data['thetamc']) * data['t']\n",
    "data['fphi'] = np.arctan2(data['fy'], data['fx']) * 180\n",
    "\n",
    "data['nhitratio'] = data['nhit']/data['nhitreal']\n",
    "del data['fx']\n",
    "del data['fy']\n",
    "del data['x']\n",
    "del data['y']\n",
    "del data['z']"
   ]
  },
  {
   "cell_type": "code",
   "execution_count": 4,
   "metadata": {},
   "outputs": [
    {
     "name": "stdout",
     "output_type": "stream",
     "text": [
      "9473201\n",
      "<class 'int'>\n",
      "(13559712, 17)\n"
     ]
    }
   ],
   "source": [
    "print(trainshape[0])\n",
    "print(type(trainshape[0]))\n",
    "print(data.shape)\n",
    "\n",
    "trainpd = data[:trainshape[0]].reset_index()\n",
    "testpd = data[trainshape[0]:].reset_index()\n",
    "del data\n"
   ]
  },
  {
   "cell_type": "code",
   "execution_count": 5,
   "metadata": {},
   "outputs": [
    {
     "name": "stdout",
     "output_type": "stream",
     "text": [
      "Index(['index', 'event_id', 'flag', 'hit_id', 'q', 't', 'terror', 'nhit',\n",
      "       'nhitreal', 'energymc', 'thetamc', 'phimc', 'xcmc', 'ycmc', 'fdis',\n",
      "       'fscala', 'fphi', 'nhitratio'],\n",
      "      dtype='object')\n"
     ]
    }
   ],
   "source": [
    "print(trainpd.columns)\n",
    "feature= [x for x in trainpd.columns if x not in ['flag','index','hit_id','event_id']]\n",
    "labels = trainpd['flag']\n",
    "del trainpd['flag']\n",
    "del testpd['flag']"
   ]
  },
  {
   "cell_type": "code",
   "execution_count": null,
   "metadata": {},
   "outputs": [
    {
     "name": "stdout",
     "output_type": "stream",
     "text": [
      ">>> [      0       2       3 ... 9473198 9473199 9473200]\n",
      "[00:13:03] DEBUG: C:/Users/Administrator/workspace/xgboost-win64_release_1.0.0/src/tree/updater_gpu_hist.cu:1167: [GPU Hist]: Configure\n",
      "[00:13:05] ======== Monitor: xgboost::common::DenseCuts::DenseCuts ========\n",
      "[00:13:05] Init: 0.002497s, 1 calls @ 2497us\n",
      "\n",
      "[00:13:06] ======== Monitor: xgboost::common::HistogramCuts::HistogramCuts ========\n",
      "[0]\tvalidation_0-auc:0.96647\tvalidation_1-auc:0.96639\n",
      "Multiple eval metrics have been passed: 'validation_1-auc' will be used for early stopping.\n",
      "\n",
      "Will train until validation_1-auc hasn't improved in 50 rounds.\n",
      "[5]\tvalidation_0-auc:0.97303\tvalidation_1-auc:0.97289\n",
      "[10]\tvalidation_0-auc:0.97578\tvalidation_1-auc:0.97561\n",
      "[15]\tvalidation_0-auc:0.97712\tvalidation_1-auc:0.97698\n",
      "[20]\tvalidation_0-auc:0.97806\tvalidation_1-auc:0.97795\n",
      "[25]\tvalidation_0-auc:0.97876\tvalidation_1-auc:0.97864\n",
      "[30]\tvalidation_0-auc:0.97933\tvalidation_1-auc:0.97919\n",
      "[35]\tvalidation_0-auc:0.97979\tvalidation_1-auc:0.97963\n",
      "[40]\tvalidation_0-auc:0.98046\tvalidation_1-auc:0.98030\n",
      "[45]\tvalidation_0-auc:0.98085\tvalidation_1-auc:0.98069\n",
      "[50]\tvalidation_0-auc:0.98185\tvalidation_1-auc:0.98168\n",
      "[55]\tvalidation_0-auc:0.98266\tvalidation_1-auc:0.98248\n",
      "[60]\tvalidation_0-auc:0.98364\tvalidation_1-auc:0.98345\n",
      "[65]\tvalidation_0-auc:0.98551\tvalidation_1-auc:0.98532\n",
      "[70]\tvalidation_0-auc:0.98669\tvalidation_1-auc:0.98649\n",
      "[75]\tvalidation_0-auc:0.98757\tvalidation_1-auc:0.98736\n",
      "[80]\tvalidation_0-auc:0.98850\tvalidation_1-auc:0.98828\n",
      "[85]\tvalidation_0-auc:0.98904\tvalidation_1-auc:0.98883\n",
      "[90]\tvalidation_0-auc:0.98966\tvalidation_1-auc:0.98944\n",
      "[95]\tvalidation_0-auc:0.99009\tvalidation_1-auc:0.98987\n",
      "[100]\tvalidation_0-auc:0.99042\tvalidation_1-auc:0.99020\n",
      "[105]\tvalidation_0-auc:0.99066\tvalidation_1-auc:0.99044\n",
      "[110]\tvalidation_0-auc:0.99099\tvalidation_1-auc:0.99076\n",
      "[115]\tvalidation_0-auc:0.99162\tvalidation_1-auc:0.99140\n",
      "[120]\tvalidation_0-auc:0.99188\tvalidation_1-auc:0.99166\n",
      "[125]\tvalidation_0-auc:0.99207\tvalidation_1-auc:0.99185\n",
      "[130]\tvalidation_0-auc:0.99249\tvalidation_1-auc:0.99226\n",
      "[135]\tvalidation_0-auc:0.99266\tvalidation_1-auc:0.99244\n",
      "[140]\tvalidation_0-auc:0.99283\tvalidation_1-auc:0.99261\n",
      "[145]\tvalidation_0-auc:0.99321\tvalidation_1-auc:0.99299\n",
      "[150]\tvalidation_0-auc:0.99333\tvalidation_1-auc:0.99311\n",
      "[155]\tvalidation_0-auc:0.99349\tvalidation_1-auc:0.99327\n",
      "[160]\tvalidation_0-auc:0.99358\tvalidation_1-auc:0.99335\n",
      "[165]\tvalidation_0-auc:0.99368\tvalidation_1-auc:0.99345\n",
      "[170]\tvalidation_0-auc:0.99374\tvalidation_1-auc:0.99349\n",
      "[175]\tvalidation_0-auc:0.99392\tvalidation_1-auc:0.99367\n",
      "[180]\tvalidation_0-auc:0.99405\tvalidation_1-auc:0.99380\n",
      "[185]\tvalidation_0-auc:0.99420\tvalidation_1-auc:0.99395\n",
      "[190]\tvalidation_0-auc:0.99428\tvalidation_1-auc:0.99401\n",
      "[195]\tvalidation_0-auc:0.99435\tvalidation_1-auc:0.99408\n",
      "[200]\tvalidation_0-auc:0.99448\tvalidation_1-auc:0.99421\n",
      "[205]\tvalidation_0-auc:0.99466\tvalidation_1-auc:0.99439\n",
      "[210]\tvalidation_0-auc:0.99477\tvalidation_1-auc:0.99449\n",
      "[215]\tvalidation_0-auc:0.99483\tvalidation_1-auc:0.99455\n",
      "[220]\tvalidation_0-auc:0.99486\tvalidation_1-auc:0.99458\n",
      "[225]\tvalidation_0-auc:0.99498\tvalidation_1-auc:0.99470\n",
      "[230]\tvalidation_0-auc:0.99507\tvalidation_1-auc:0.99478\n"
     ]
    }
   ],
   "source": [
    "#这里用的gpu版的xgb，cpu的话实在太慢了，建议装个gpu版\n",
    "n_splits = 5\n",
    "kf = KFold(n_splits=n_splits, shuffle=True, random_state=4399)\n",
    "y_pp_xgb = np.zeros(testshape[0])\n",
    "y_pp_xgb_stacking = np.zeros(len(labels))\n",
    "for train_index, test_index in kf.split(trainpd):\n",
    "    print ( \">>>\", train_index )\n",
    "    clf = xgb.XGBClassifier(tree_method='gpu_hist',max_depth=8,learning_rate=0.1,verbosity=3,\n",
    "                           eval_metric='auc',n_estimators=2000)\n",
    "    clf.fit(\n",
    "        trainpd[feature].iloc[train_index], labels[train_index],\n",
    "        eval_set=[(trainpd[feature].iloc[train_index], labels[train_index]),\n",
    "                  (trainpd[feature].iloc[test_index], labels[test_index])],\n",
    "        early_stopping_rounds=50,\n",
    "        verbose=5,\n",
    "    )\n",
    "\n",
    "    y_pred = clf.predict(trainpd[feature].iloc[test_index]) \n",
    "    y_predprob = clf.predict_proba(trainpd[feature].iloc[test_index])[:, 1] \n",
    "    \n",
    "    y_pp_xgb_stacking[test_index] = y_predprob\n",
    "      \n",
    "    auc = metrics.roc_auc_score(labels[test_index], y_predprob)\n",
    "    print(\"AUC Score (Train): %f\" % auc) \n",
    "    \n",
    "    y_pp_xgb += clf.predict_proba(testpd[feature])[:, 1] / n_splits\n",
    "    "
   ]
  },
  {
   "cell_type": "code",
   "execution_count": null,
   "metadata": {},
   "outputs": [],
   "source": [
    "#阈值大概在0.2-0.4之间 本题对召回率较敏感，可适当降低一下阈值\n",
    "thre = 0.25 "
   ]
  },
  {
   "cell_type": "code",
   "execution_count": null,
   "metadata": {},
   "outputs": [],
   "source": [
    "#生成提交文件\n",
    "sub = pd.DataFrame()\n",
    "sub['hit_id']=testpd['hit_id']\n",
    "sub['flag_pred'] = y_pp_xgb\n",
    "sub['event_id'] = testpd['event_id']\n",
    "sub['flag_pred'] = sub['flag_pred'].apply(lambda x: 1 if x >= thre else 0)\n",
    "sub.to_csv(os.path.join(pathf, \"subsample.csv\").format(sub['flag_pred'].mean()),index=False)"
   ]
  }
 ],
 "metadata": {
  "kernelspec": {
   "display_name": "Python 3",
   "language": "python",
   "name": "python3"
  },
  "language_info": {
   "codemirror_mode": {
    "name": "ipython",
    "version": 3
   },
   "file_extension": ".py",
   "mimetype": "text/x-python",
   "name": "python",
   "nbconvert_exporter": "python",
   "pygments_lexer": "ipython3",
   "version": "3.6.2"
  }
 },
 "nbformat": 4,
 "nbformat_minor": 2
}
