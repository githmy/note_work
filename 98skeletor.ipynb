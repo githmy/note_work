{
 "cells": [
  {
   "cell_type": "code",
   "execution_count": 1,
   "metadata": {},
   "outputs": [],
   "source": [
    "import os\n",
    "from tqdm import tqdm\n",
    "from sklearn.model_selection import KFold, train_test_split, GridSearchCV\n",
    "from sklearn.model_selection import StratifiedKFold\n",
    "from sklearn import metrics\n",
    "from scipy.stats import entropy, kurtosis\n",
    "import xgboost as xgb\n",
    "import seaborn as sns\n",
    "from xgboost import plot_importance\n",
    "import warnings\n",
    "import matplotlib.pyplot as plt\n",
    "import pandas as pd\n",
    "from math import *\n",
    "import numpy as np\n",
    "\n",
    "pd.set_option('display.max_columns', None)\n",
    "from IPython.display import display\n",
    "warnings.filterwarnings('ignore')\n",
    "%matplotlib inline"
   ]
  },
  {
   "cell_type": "code",
   "execution_count": 2,
   "metadata": {},
   "outputs": [
    {
     "name": "stdout",
     "output_type": "stream",
     "text": [
      "       x      y  z        t   terror        q  flag  event_id  hit_id\n",
      "0 -142.5 -147.5  0  767.879  2.02966  1.05052     0         7       1\n",
      "(9473201, 9)\n",
      "   event_id  nhit  nhitreal  energymc  thetamc    phimc   xcmc    ycmc\n",
      "0         7   426        70   48348.9  63.1686  11.0982 -40.83  114.03\n",
      "(13315, 8)\n",
      "       x      y  z        t  terror        q  event_id  hit_id\n",
      "0 -142.5 -127.5  0  848.061  1.9984  1.15067         9       1\n",
      "(4086511, 8)\n"
     ]
    }
   ],
   "source": [
    "pathf = os.path.join(\"..\", \"data\", \"particles\")\n",
    "\n",
    "trainpd = pd.read_csv(os.path.join(pathf, \"train.csv\"))\n",
    "print(trainpd.head(1))\n",
    "trainshape = trainpd.shape\n",
    "print(trainshape)\n",
    "eventpd = pd.read_csv(os.path.join(pathf, \"event.csv\"))\n",
    "print(eventpd.head(1))\n",
    "print(eventpd.shape)\n",
    "testpd = pd.read_csv(os.path.join(pathf, \"test.csv\"))\n",
    "testshape = testpd.shape\n",
    "print(testpd.head(1))\n",
    "print(testpd.shape)\n",
    "\n",
    "data = pd.concat([trainpd, testpd], ignore_index=True)\n",
    "data = pd.merge(data, eventpd, on='event_id', how='left')\n"
   ]
  },
  {
   "cell_type": "code",
   "execution_count": 3,
   "metadata": {},
   "outputs": [],
   "source": [
    "def group_fea(df,key,target,flag):\n",
    "    tmp = df.groupby(key, as_index=False)[target].agg({\n",
    "        flag+'_'+key+'_'+target + '_median': 'median',\n",
    "        flag+'_'+key+'_'+target + '_mean': 'mean',\n",
    "        flag+'_'+key+'_'+target + '_std': 'std',\n",
    "        flag+'_'+key+'_'+target + '_skew': 'skew', \n",
    "        flag+'_'+key+'_'+target + '_kurt': kurtosis,\n",
    "        flag+'_'+key+'_'+target + '_sum':'sum',\n",
    "    }).reset_index()\n",
    "    print(\"**************************{}**************************\".format(target))\n",
    "    return tmp"
   ]
  },
  {
   "cell_type": "code",
   "execution_count": 4,
   "metadata": {},
   "outputs": [],
   "source": [
    "#组合特征 \n",
    "#train表的特征与event表的特征交互\n",
    "data['fx'] = data['x']-data['xcmc']\n",
    "data['fy'] = data['y']-data['ycmc']\n",
    "data['fdis'] = np.sqrt(data['fx']**2+data['fy']**2)\n",
    "data['fscala'] = np.sin(data['thetamc']) * data['t']\n",
    "data['fphi'] = np.arctan2(data['fy'], data['fx']) * 180\n",
    "\n",
    "data['nhit_bias'] = (data['nhit']-data['nhitreal'])/(data['nhitreal']+data['nhitreal'].mean())\n"
   ]
  },
  {
   "cell_type": "code",
   "execution_count": null,
   "metadata": {},
   "outputs": [
    {
     "name": "stdout",
     "output_type": "stream",
     "text": [
      "9473201\n",
      "<class 'int'>\n",
      "(13559712, 22)\n"
     ]
    }
   ],
   "source": [
    "print(trainshape[0])\n",
    "print(type(trainshape[0]))\n",
    "print(data.shape)\n",
    "\n",
    "trainpd = data[:trainshape[0]].reset_index()\n",
    "testpd = data[trainshape[0]:].reset_index()\n",
    "del data\n"
   ]
  },
  {
   "cell_type": "code",
   "execution_count": null,
   "metadata": {},
   "outputs": [],
   "source": [
    "print(trainpd.columns)\n",
    "feature= [x for x in trainpd.columns if x not in ['flag','index','index_x','index_y','hit_id','event_id']]\n"
   ]
  },
  {
   "cell_type": "code",
   "execution_count": null,
   "metadata": {},
   "outputs": [],
   "source": [
    "#这里用的gpu版的xgb，cpu的话实在太慢了，建议装个gpu版\n",
    "n_splits = 5\n",
    "kf = KFold(n_splits=n_splits, shuffle=True, random_state=4399)\n",
    "y_pp_xgb = np.zeros(testshape[0])\n",
    "y_pp_xgb_stacking = np.zeros(len(labels))\n",
    "for train_index, test_index in kf.split(trainpd):\n",
    "    print ( \">>>\", train_index )\n",
    "    clf = xgb.XGBClassifier(tree_method='gpu_hist',max_depth=8,learning_rate=0.1,verbosity=3,\n",
    "                           eval_metric='auc',n_estimators=2000)\n",
    "    clf.fit(\n",
    "        trainpd[feature].iloc[train_index], labels[train_index],\n",
    "        eval_set=[(trainpd[feature].iloc[train_index], labels[train_index]),\n",
    "                  (trainpd[feature].iloc[test_index], labels[test_index])],\n",
    "        early_stopping_rounds=50,\n",
    "        verbose=5,\n",
    "    )\n",
    "\n",
    "    y_pred = clf.predict(trainpd[feature].iloc[test_index]) \n",
    "    y_predprob = clf.predict_proba(trainpd[feature].iloc[test_index])[:, 1] \n",
    "    \n",
    "    y_pp_xgb_stacking[test_index] = y_predprob\n",
    "      \n",
    "    auc = metrics.roc_auc_score(labels[test_index], y_predprob)\n",
    "    print(\"AUC Score (Train): %f\" % auc) \n",
    "    \n",
    "    y_pp_xgb += clf.predict_proba(testpd[feature])[:, 1] / n_splits\n",
    "    "
   ]
  },
  {
   "cell_type": "code",
   "execution_count": null,
   "metadata": {},
   "outputs": [],
   "source": [
    "#阈值大概在0.2-0.4之间 本题对召回率较敏感，可适当降低一下阈值\n",
    "thre = 0.25 "
   ]
  },
  {
   "cell_type": "code",
   "execution_count": null,
   "metadata": {},
   "outputs": [],
   "source": [
    "#生成提交文件\n",
    "sub = pd.DataFrame()\n",
    "sub['hit_id']=testpd['hit_id']\n",
    "sub['flag_pred'] = y_pp_xgb\n",
    "sub['event_id'] = testpd['event_id']\n",
    "sub['flag_pred'] = sub['flag_pred'].apply(lambda x: 1 if x >= thre else 0)\n",
    "sub.to_csv(os.path.join(pathf, \"sample.csv\").format(sub['flag_pred'].mean()),index=False)"
   ]
  },
  {
   "cell_type": "code",
   "execution_count": null,
   "metadata": {},
   "outputs": [],
   "source": []
  },
  {
   "cell_type": "code",
   "execution_count": null,
   "metadata": {},
   "outputs": [],
   "source": []
  }
 ],
 "metadata": {
  "kernelspec": {
   "display_name": "Python 3",
   "language": "python",
   "name": "python3"
  },
  "language_info": {
   "codemirror_mode": {
    "name": "ipython",
    "version": 3
   },
   "file_extension": ".py",
   "mimetype": "text/x-python",
   "name": "python",
   "nbconvert_exporter": "python",
   "pygments_lexer": "ipython3",
   "version": "3.6.2"
  }
 },
 "nbformat": 4,
 "nbformat_minor": 2
}
