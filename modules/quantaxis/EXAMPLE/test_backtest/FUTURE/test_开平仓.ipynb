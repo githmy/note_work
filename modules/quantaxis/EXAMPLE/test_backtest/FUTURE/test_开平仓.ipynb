{
 "cells": [
  {
   "cell_type": "code",
   "execution_count": 1,
   "metadata": {},
   "outputs": [],
   "source": [
    "import QUANTAXIS as QA\n",
    "import sys\n"
   ]
  },
  {
   "cell_type": "code",
   "execution_count": 2,
   "metadata": {},
   "outputs": [],
   "source": [
    "Account=QA.QA_Account(allow_sellopen=True,init_cash=10000,allow_t0=True,account_cookie='future_test',market_type=QA.MARKET_TYPE.FUTURE_CN,frequence=QA.FREQUENCE.FIFTEEN_MIN)"
   ]
  },
  {
   "cell_type": "code",
   "execution_count": 3,
   "metadata": {},
   "outputs": [],
   "source": [
    "Broker=QA.QA_BacktestBroker()"
   ]
  },
  {
   "cell_type": "code",
   "execution_count": 4,
   "metadata": {},
   "outputs": [],
   "source": [
    "rb_ds=QA.QA_fetch_future_min_adv('RBL8','2018-01-01','2018-01-30',frequence='60min')"
   ]
  },
  {
   "cell_type": "code",
   "execution_count": null,
   "metadata": {},
   "outputs": [],
   "source": []
  },
  {
   "cell_type": "code",
   "execution_count": 5,
   "metadata": {},
   "outputs": [],
   "source": [
    "import numpy as np\n",
    "import pandas as pd\n",
    "def MACD_JCSC(dataframe,SHORT=12,LONG=26,M=9):\n",
    "    \"\"\"\n",
    "    1.DIF向上突破DEA，买入信号参考。\n",
    "    2.DIF向下跌破DEA，卖出信号参考。\n",
    "    \"\"\"\n",
    "    CLOSE=dataframe.close\n",
    "    DIFF =QA.EMA(CLOSE,SHORT) - QA.EMA(CLOSE,LONG)\n",
    "    DEA = QA.EMA(DIFF,M)\n",
    "    MACD =2*(DIFF-DEA)\n",
    "\n",
    "    CROSS_JC=QA.CROSS(DIFF,DEA)\n",
    "    CROSS_SC=QA.CROSS(DEA,DIFF)\n",
    "    ZERO=0\n",
    "    return pd.DataFrame({'DIFF':DIFF,'DEA':DEA,'MACD':MACD,'CROSS_JC':CROSS_JC,'CROSS_SC':CROSS_SC,'ZERO':ZERO})\n",
    "\n",
    "ind=rb_ds.add_func(MACD_JCSC)\n"
   ]
  },
  {
   "cell_type": "code",
   "execution_count": null,
   "metadata": {},
   "outputs": [],
   "source": []
  },
  {
   "cell_type": "code",
   "execution_count": 6,
   "metadata": {},
   "outputs": [
    {
     "name": "stdout",
     "output_type": "stream",
     "text": [
      "try to settle\n",
      "try to settle\n",
      "try to settle\n",
      "try to settle\n",
      "try to settle\n",
      "try to settle\n",
      "try to settle\n",
      "try to settle\n",
      "try to settle\n",
      "try to settle\n",
      "try to settle\n",
      "< QA_Order realorder_id Order_2GOMToa5 datetime:2018-01-16 10:00:00 code:RBL8 amount:1 price:0 towards:2 btype:future_cn order_id:Order_2GOMToa5 account:future_test status:queued >\n",
      "< QA_DataStruct_Future_min with 1 securities >\n",
      "receive deal\n",
      "try to settle\n",
      "try to settle\n",
      "try to settle\n",
      "try to settle\n",
      "receive deal\n",
      "try to settle\n",
      "try to settle\n",
      "try to settle\n",
      "< QA_Order realorder_id Order_mS1l3HL2 datetime:2018-01-25 10:00:00 code:RBL8 amount:1 price:0 towards:2 btype:future_cn order_id:Order_mS1l3HL2 account:future_test status:queued >\n",
      "< QA_DataStruct_Future_min with 1 securities >\n",
      "receive deal\n",
      "try to settle\n",
      "receive deal\n",
      "try to settle\n",
      "try to settle\n"
     ]
    }
   ],
   "source": [
    "_date = None\n",
    "for items in rb_ds.panel_gen:\n",
    "    if _date != items.date[0]:\n",
    "        print('try to settle')\n",
    "        _date=items.date[0]\n",
    "        Account.settle()\n",
    "    \n",
    "    \n",
    "    for item in items.security_gen:\n",
    "        daily_ind=ind.loc[item.index]\n",
    "        if daily_ind.CROSS_JC.iloc[0]>0:\n",
    "            order=Account.send_order(\n",
    "                code=item.code[0], \n",
    "                time=item.datetime[0], \n",
    "                amount=1, \n",
    "                towards=QA.ORDER_DIRECTION.BUY_OPEN, \n",
    "                price=0, \n",
    "                order_model=QA.ORDER_MODEL.CLOSE, \n",
    "                amount_model=QA.AMOUNT_MODEL.BY_AMOUNT\n",
    "                )\n",
    "\n",
    "            if order:\n",
    "                print(order)\n",
    "                print(item)\n",
    "                Broker.receive_order(QA.QA_Event(order=order,market_data=item))\n",
    "\n",
    "\n",
    "                trade_mes=Broker.query_orders(Account.account_cookie,'filled')\n",
    "                res=trade_mes.loc[order.account_cookie,order.realorder_id]\n",
    "                order.trade(res.trade_id,res.trade_price,res.trade_amount,res.trade_time)\n",
    "        elif daily_ind.CROSS_SC.iloc[0]>0:\n",
    "            if Account.sell_available.get(item.code[0], 0)>0:\n",
    "                order=Account.send_order(\n",
    "                    code=item.code[0], \n",
    "                    time=item.datetime[0], \n",
    "                    amount=Account.sell_available.get(item.code[0], 0), \n",
    "                    towards=QA.ORDER_DIRECTION.SELL_CLOSE, \n",
    "                    price=0, \n",
    "                    order_model=QA.ORDER_MODEL.MARKET, \n",
    "                    amount_model=QA.AMOUNT_MODEL.BY_AMOUNT\n",
    "                    )\n",
    "                if order:\n",
    "                    Broker.receive_order(QA.QA_Event(order=order,market_data=item))\n",
    "\n",
    "\n",
    "                    trade_mes=Broker.query_orders(Account.account_cookie,'filled')\n",
    "                    res=trade_mes.loc[order.account_cookie,order.realorder_id]\n",
    "                    order.trade(res.trade_id,res.trade_price,res.trade_amount,res.trade_time)\n",
    "    Account.settle()\n",
    "            "
   ]
  },
  {
   "cell_type": "code",
   "execution_count": 7,
   "metadata": {},
   "outputs": [
    {
     "data": {
      "text/html": [
       "<div>\n",
       "<style scoped>\n",
       "    .dataframe tbody tr th:only-of-type {\n",
       "        vertical-align: middle;\n",
       "    }\n",
       "\n",
       "    .dataframe tbody tr th {\n",
       "        vertical-align: top;\n",
       "    }\n",
       "\n",
       "    .dataframe thead th {\n",
       "        text-align: right;\n",
       "    }\n",
       "</style>\n",
       "<table border=\"1\" class=\"dataframe\">\n",
       "  <thead>\n",
       "    <tr style=\"text-align: right;\">\n",
       "      <th></th>\n",
       "      <th>datetime</th>\n",
       "      <th>code</th>\n",
       "      <th>price</th>\n",
       "      <th>amount</th>\n",
       "      <th>cash</th>\n",
       "      <th>order_id</th>\n",
       "      <th>realorder_id</th>\n",
       "      <th>trade_id</th>\n",
       "      <th>account_cookie</th>\n",
       "      <th>commission</th>\n",
       "      <th>tax</th>\n",
       "      <th>message</th>\n",
       "    </tr>\n",
       "  </thead>\n",
       "  <tbody>\n",
       "    <tr>\n",
       "      <th>0</th>\n",
       "      <td>2018-01-16 10:00:00</td>\n",
       "      <td>RBL8</td>\n",
       "      <td>3828.0</td>\n",
       "      <td>1</td>\n",
       "      <td>6171.043000</td>\n",
       "      <td>Order_2GOMToa5</td>\n",
       "      <td>Order_2GOMToa5</td>\n",
       "      <td>Trade_yBz1nKDg</td>\n",
       "      <td>future_test</td>\n",
       "      <td>0.957000</td>\n",
       "      <td>0</td>\n",
       "      <td>None</td>\n",
       "    </tr>\n",
       "    <tr>\n",
       "      <th>1</th>\n",
       "      <td>2018-01-22 23:00:00</td>\n",
       "      <td>RBL8</td>\n",
       "      <td>3916.5</td>\n",
       "      <td>-1</td>\n",
       "      <td>10086.563875</td>\n",
       "      <td>Order_2saOWLFB</td>\n",
       "      <td>Order_2saOWLFB</td>\n",
       "      <td>Trade_iUp3KEwZ</td>\n",
       "      <td>future_test</td>\n",
       "      <td>0.979125</td>\n",
       "      <td>0</td>\n",
       "      <td>None</td>\n",
       "    </tr>\n",
       "    <tr>\n",
       "      <th>2</th>\n",
       "      <td>2018-01-25 10:00:00</td>\n",
       "      <td>RBL8</td>\n",
       "      <td>3959.0</td>\n",
       "      <td>1</td>\n",
       "      <td>6126.574125</td>\n",
       "      <td>Order_mS1l3HL2</td>\n",
       "      <td>Order_mS1l3HL2</td>\n",
       "      <td>Trade_WUnc1JwD</td>\n",
       "      <td>future_test</td>\n",
       "      <td>0.989750</td>\n",
       "      <td>0</td>\n",
       "      <td>None</td>\n",
       "    </tr>\n",
       "    <tr>\n",
       "      <th>3</th>\n",
       "      <td>2018-01-26 10:00:00</td>\n",
       "      <td>RBL8</td>\n",
       "      <td>3946.5</td>\n",
       "      <td>-1</td>\n",
       "      <td>10072.087500</td>\n",
       "      <td>Order_Y67soCPe</td>\n",
       "      <td>Order_Y67soCPe</td>\n",
       "      <td>Trade_3YCMN4fJ</td>\n",
       "      <td>future_test</td>\n",
       "      <td>0.986625</td>\n",
       "      <td>0</td>\n",
       "      <td>None</td>\n",
       "    </tr>\n",
       "  </tbody>\n",
       "</table>\n",
       "</div>"
      ],
      "text/plain": [
       "              datetime  code   price  amount          cash        order_id  \\\n",
       "0  2018-01-16 10:00:00  RBL8  3828.0       1   6171.043000  Order_2GOMToa5   \n",
       "1  2018-01-22 23:00:00  RBL8  3916.5      -1  10086.563875  Order_2saOWLFB   \n",
       "2  2018-01-25 10:00:00  RBL8  3959.0       1   6126.574125  Order_mS1l3HL2   \n",
       "3  2018-01-26 10:00:00  RBL8  3946.5      -1  10072.087500  Order_Y67soCPe   \n",
       "\n",
       "     realorder_id        trade_id account_cookie  commission  tax message  \n",
       "0  Order_2GOMToa5  Trade_yBz1nKDg    future_test    0.957000    0    None  \n",
       "1  Order_2saOWLFB  Trade_iUp3KEwZ    future_test    0.979125    0    None  \n",
       "2  Order_mS1l3HL2  Trade_WUnc1JwD    future_test    0.989750    0    None  \n",
       "3  Order_Y67soCPe  Trade_3YCMN4fJ    future_test    0.986625    0    None  "
      ]
     },
     "execution_count": 7,
     "metadata": {},
     "output_type": "execute_result"
    }
   ],
   "source": [
    "Account.history_table"
   ]
  },
  {
   "cell_type": "code",
   "execution_count": 8,
   "metadata": {},
   "outputs": [
    {
     "data": {
      "text/plain": [
       "86.563875"
      ]
     },
     "execution_count": 8,
     "metadata": {},
     "output_type": "execute_result"
    }
   ],
   "source": [
    "88.5 -1.936125"
   ]
  },
  {
   "cell_type": "code",
   "execution_count": 9,
   "metadata": {},
   "outputs": [
    {
     "data": {
      "text/plain": [
       "'\\n初始资金10000\\n\\n买入 3828.0  手续费 0.957\\n\\n可用资金为:  10000 - 3828.0 -0.957 = 6171.043\\n\\n买入==冻结正常\\n\\n\\n卖出(平多仓)\\n3916.5 卖出  手续费 0.979125\\n\\n结算出  赚(3916.5-3828.0)=88.5 价差 手续费 0.957+0.979125 =1.936125\\n合计赚 88.5 -1.936125 =86.563875\\n\\n正确 \\n\\n\\n当前资金  \\t10086.563875\\n\\n\\n\\n\\n'"
      ]
     },
     "execution_count": 9,
     "metadata": {},
     "output_type": "execute_result"
    }
   ],
   "source": [
    "\"\"\"\n",
    "初始资金10000\n",
    "\n",
    "买入 3828.0  手续费 0.957\n",
    "\n",
    "可用资金为:  10000 - 3828.0 -0.957 = 6171.043\n",
    "\n",
    "买入==冻结正常\n",
    "\n",
    "\n",
    "卖出(平多仓)\n",
    "3916.5 卖出  手续费 0.979125\n",
    "\n",
    "结算出  赚(3916.5-3828.0)=88.5 价差 手续费 0.957+0.979125 =1.936125\n",
    "合计赚 88.5 -1.936125 =86.563875\n",
    "\n",
    "正确 \n",
    "\n",
    "\n",
    "当前资金  \t10086.563875\n",
    "\n",
    "\n",
    "\n",
    "\n",
    "\"\"\""
   ]
  },
  {
   "cell_type": "code",
   "execution_count": 10,
   "metadata": {},
   "outputs": [],
   "source": [
    "rb_dayds=QA.QA_fetch_future_day_adv('RBL8','2018-01-01','2018-08-28')\n"
   ]
  },
  {
   "cell_type": "code",
   "execution_count": 11,
   "metadata": {},
   "outputs": [],
   "source": [
    "Risk=QA.QA_Risk(Account,if_fq=False,market_data=rb_dayds)"
   ]
  },
  {
   "cell_type": "code",
   "execution_count": 12,
   "metadata": {},
   "outputs": [
    {
     "data": {
      "text/plain": [
       "<module 'matplotlib.pyplot' from 'C:\\\\ProgramData\\\\Anaconda3\\\\lib\\\\site-packages\\\\matplotlib\\\\pyplot.py'>"
      ]
     },
     "execution_count": 12,
     "metadata": {},
     "output_type": "execute_result"
    },
    {
     "data": {
      "image/png": "[encoded data removed]",
      "text/plain": [
       "<Figure size 1008x864 with 2 Axes>"
      ]
     },
     "metadata": {},
     "output_type": "display_data"
    }
   ],
   "source": [
    "Risk.plot_assets_curve()"
   ]
  },
  {
   "cell_type": "code",
   "execution_count": 13,
   "metadata": {},
   "outputs": [
    {
     "data": {
      "text/plain": [
       "{'total_buyandsell': 76.0,\n",
       " 'total_tax': 0.0,\n",
       " 'total_commission': -3.91,\n",
       " 'total_profit': 72.09}"
      ]
     },
     "execution_count": 13,
     "metadata": {},
     "output_type": "execute_result"
    }
   ],
   "source": [
    "Risk.profit_construct"
   ]
  },
  {
   "cell_type": "code",
   "execution_count": null,
   "metadata": {},
   "outputs": [],
   "source": []
  },
  {
   "cell_type": "code",
   "execution_count": null,
   "metadata": {},
   "outputs": [],
   "source": []
  },
  {
   "cell_type": "code",
   "execution_count": 14,
   "metadata": {},
   "outputs": [],
   "source": [
    "Account=QA.QA_Account(allow_sellopen=True,init_cash=10000,allow_t0=True,account_cookie='future_test',market_type=QA.MARKET_TYPE.FUTURE_CN,frequence=QA.FREQUENCE.FIFTEEN_MIN)\n",
    "rb_ds=QA.QA_fetch_future_min_adv('RBL8','2018-01-01','2018-01-30',frequence='60min')\n",
    "import numpy as np\n",
    "import pandas as pd\n",
    "def MACD_JCSC(dataframe,SHORT=12,LONG=26,M=9):\n",
    "    \"\"\"\n",
    "    1.DIF向上突破DEA，买入信号参考。\n",
    "    2.DIF向下跌破DEA，卖出信号参考。\n",
    "    \"\"\"\n",
    "    CLOSE=dataframe.close\n",
    "    DIFF =QA.EMA(CLOSE,SHORT) - QA.EMA(CLOSE,LONG)\n",
    "    DEA = QA.EMA(DIFF,M)\n",
    "    MACD =2*(DIFF-DEA)\n",
    "\n",
    "    CROSS_JC=QA.CROSS(DIFF,DEA)\n",
    "    CROSS_SC=QA.CROSS(DEA,DIFF)\n",
    "    ZERO=0\n",
    "    return pd.DataFrame({'DIFF':DIFF,'DEA':DEA,'MACD':MACD,'CROSS_JC':CROSS_JC,'CROSS_SC':CROSS_SC,'ZERO':ZERO})\n",
    "\n",
    "ind=rb_ds.add_func(MACD_JCSC)"
   ]
  },
  {
   "cell_type": "code",
   "execution_count": 15,
   "metadata": {},
   "outputs": [
    {
     "name": "stdout",
     "output_type": "stream",
     "text": [
      "try to settle\n",
      "try to settle\n",
      "try to settle\n",
      "try to settle\n",
      "try to settle\n",
      "try to settle\n",
      "try to settle\n",
      "try to settle\n",
      "< QA_Order realorder_id Order_ql1PWScR datetime:2018-01-11 23:00:00 code:RBL8 amount:1 price:0 towards:-2 btype:future_cn order_id:Order_ql1PWScR account:future_test status:queued >\n",
      "< QA_DataStruct_Future_min with 1 securities >\n",
      "receive deal\n",
      "try to settle\n",
      "try to settle\n",
      "try to settle\n",
      "1\n",
      "receive deal\n",
      "try to settle\n",
      "try to settle\n",
      "try to settle\n",
      "try to settle\n",
      "< QA_Order realorder_id Order_PleM5thI datetime:2018-01-22 23:00:00 code:RBL8 amount:1 price:0 towards:-2 btype:future_cn order_id:Order_PleM5thI account:future_test status:queued >\n",
      "< QA_DataStruct_Future_min with 1 securities >\n",
      "receive deal\n",
      "try to settle\n",
      "try to settle\n",
      "try to settle\n",
      "1\n",
      "receive deal\n",
      "try to settle\n",
      "< QA_Order realorder_id Order_sDAZdh3u datetime:2018-01-26 10:00:00 code:RBL8 amount:1 price:0 towards:-2 btype:future_cn order_id:Order_sDAZdh3u account:future_test status:queued >\n",
      "< QA_DataStruct_Future_min with 1 securities >\n",
      "receive deal\n",
      "try to settle\n",
      "try to settle\n"
     ]
    }
   ],
   "source": [
    "_date = None\n",
    "for items in rb_ds.panel_gen:\n",
    "    if _date != items.date[0]:\n",
    "        print('try to settle')\n",
    "        _date=items.date[0]\n",
    "        Account.settle()\n",
    "    \n",
    "    \n",
    "    for item in items.security_gen:\n",
    "        daily_ind=ind.loc[item.index]\n",
    "        if daily_ind.CROSS_SC.iloc[0]>0:\n",
    "            order=Account.send_order(\n",
    "                code=item.code[0], \n",
    "                time=item.datetime[0], \n",
    "                amount=1, \n",
    "                towards=QA.ORDER_DIRECTION.SELL_OPEN, \n",
    "                price=0, \n",
    "                order_model=QA.ORDER_MODEL.CLOSE, \n",
    "                amount_model=QA.AMOUNT_MODEL.BY_AMOUNT\n",
    "                )\n",
    "\n",
    "            if order:\n",
    "                print(order)\n",
    "                print(item)\n",
    "                Broker.receive_order(QA.QA_Event(order=order,market_data=item))\n",
    "\n",
    "\n",
    "                trade_mes=Broker.query_orders(Account.account_cookie,'filled')\n",
    "                res=trade_mes.loc[order.account_cookie,order.realorder_id]\n",
    "                order.trade(res.trade_id,res.trade_price,res.trade_amount,res.trade_time)\n",
    "        elif daily_ind.CROSS_JC.iloc[0]>0:\n",
    "            if Account.sell_available.get(item.code[0], 0)<0:\n",
    "                print(1)\n",
    "                order=Account.send_order(\n",
    "                    code=item.code[0], \n",
    "                    time=item.datetime[0], \n",
    "                    amount=abs(Account.sell_available.get(item.code[0], 0)), \n",
    "                    towards=QA.ORDER_DIRECTION.BUY_CLOSE, \n",
    "                    price=0, \n",
    "                    order_model=QA.ORDER_MODEL.MARKET, \n",
    "                    amount_model=QA.AMOUNT_MODEL.BY_AMOUNT\n",
    "                    )\n",
    "                if order:\n",
    "                    Broker.receive_order(QA.QA_Event(order=order,market_data=item))\n",
    "\n",
    "\n",
    "                    trade_mes=Broker.query_orders(Account.account_cookie,'filled')\n",
    "                    res=trade_mes.loc[order.account_cookie,order.realorder_id]\n",
    "                    order.trade(res.trade_id,res.trade_price,res.trade_amount,res.trade_time)\n",
    "    Account.settle()"
   ]
  },
  {
   "cell_type": "code",
   "execution_count": 16,
   "metadata": {},
   "outputs": [
    {
     "data": {
      "text/html": [
       "<div>\n",
       "<style scoped>\n",
       "    .dataframe tbody tr th:only-of-type {\n",
       "        vertical-align: middle;\n",
       "    }\n",
       "\n",
       "    .dataframe tbody tr th {\n",
       "        vertical-align: top;\n",
       "    }\n",
       "\n",
       "    .dataframe thead th {\n",
       "        text-align: right;\n",
       "    }\n",
       "</style>\n",
       "<table border=\"1\" class=\"dataframe\">\n",
       "  <thead>\n",
       "    <tr style=\"text-align: right;\">\n",
       "      <th></th>\n",
       "      <th>datetime</th>\n",
       "      <th>code</th>\n",
       "      <th>price</th>\n",
       "      <th>amount</th>\n",
       "      <th>cash</th>\n",
       "      <th>order_id</th>\n",
       "      <th>realorder_id</th>\n",
       "      <th>trade_id</th>\n",
       "      <th>account_cookie</th>\n",
       "      <th>commission</th>\n",
       "      <th>tax</th>\n",
       "      <th>message</th>\n",
       "    </tr>\n",
       "  </thead>\n",
       "  <tbody>\n",
       "    <tr>\n",
       "      <th>0</th>\n",
       "      <td>2018-01-11 23:00:00</td>\n",
       "      <td>RBL8</td>\n",
       "      <td>3811.0</td>\n",
       "      <td>-1</td>\n",
       "      <td>6188.047250</td>\n",
       "      <td>Order_ql1PWScR</td>\n",
       "      <td>Order_ql1PWScR</td>\n",
       "      <td>Trade_rZRbPdB6</td>\n",
       "      <td>future_test</td>\n",
       "      <td>0.952750</td>\n",
       "      <td>0</td>\n",
       "      <td>None</td>\n",
       "    </tr>\n",
       "    <tr>\n",
       "      <th>1</th>\n",
       "      <td>2018-01-16 10:00:00</td>\n",
       "      <td>RBL8</td>\n",
       "      <td>3817.5</td>\n",
       "      <td>1</td>\n",
       "      <td>9989.687375</td>\n",
       "      <td>Order_VLGB8UTf</td>\n",
       "      <td>Order_VLGB8UTf</td>\n",
       "      <td>Trade_q6TkQIbh</td>\n",
       "      <td>future_test</td>\n",
       "      <td>0.954375</td>\n",
       "      <td>0</td>\n",
       "      <td>None</td>\n",
       "    </tr>\n",
       "    <tr>\n",
       "      <th>2</th>\n",
       "      <td>2018-01-22 23:00:00</td>\n",
       "      <td>RBL8</td>\n",
       "      <td>3914.0</td>\n",
       "      <td>-1</td>\n",
       "      <td>6074.708875</td>\n",
       "      <td>Order_PleM5thI</td>\n",
       "      <td>Order_PleM5thI</td>\n",
       "      <td>Trade_PrQ03wG7</td>\n",
       "      <td>future_test</td>\n",
       "      <td>0.978500</td>\n",
       "      <td>0</td>\n",
       "      <td>None</td>\n",
       "    </tr>\n",
       "    <tr>\n",
       "      <th>3</th>\n",
       "      <td>2018-01-25 10:00:00</td>\n",
       "      <td>RBL8</td>\n",
       "      <td>3952.0</td>\n",
       "      <td>1</td>\n",
       "      <td>9947.763875</td>\n",
       "      <td>Order_RzyJFOYp</td>\n",
       "      <td>Order_RzyJFOYp</td>\n",
       "      <td>Trade_QMqKvcCX</td>\n",
       "      <td>future_test</td>\n",
       "      <td>0.988000</td>\n",
       "      <td>0</td>\n",
       "      <td>None</td>\n",
       "    </tr>\n",
       "    <tr>\n",
       "      <th>4</th>\n",
       "      <td>2018-01-26 10:00:00</td>\n",
       "      <td>RBL8</td>\n",
       "      <td>3934.0</td>\n",
       "      <td>-1</td>\n",
       "      <td>6012.780375</td>\n",
       "      <td>Order_sDAZdh3u</td>\n",
       "      <td>Order_sDAZdh3u</td>\n",
       "      <td>Trade_Juyh0EKN</td>\n",
       "      <td>future_test</td>\n",
       "      <td>0.983500</td>\n",
       "      <td>0</td>\n",
       "      <td>None</td>\n",
       "    </tr>\n",
       "  </tbody>\n",
       "</table>\n",
       "</div>"
      ],
      "text/plain": [
       "              datetime  code   price  amount         cash        order_id  \\\n",
       "0  2018-01-11 23:00:00  RBL8  3811.0      -1  6188.047250  Order_ql1PWScR   \n",
       "1  2018-01-16 10:00:00  RBL8  3817.5       1  9989.687375  Order_VLGB8UTf   \n",
       "2  2018-01-22 23:00:00  RBL8  3914.0      -1  6074.708875  Order_PleM5thI   \n",
       "3  2018-01-25 10:00:00  RBL8  3952.0       1  9947.763875  Order_RzyJFOYp   \n",
       "4  2018-01-26 10:00:00  RBL8  3934.0      -1  6012.780375  Order_sDAZdh3u   \n",
       "\n",
       "     realorder_id        trade_id account_cookie  commission  tax message  \n",
       "0  Order_ql1PWScR  Trade_rZRbPdB6    future_test    0.952750    0    None  \n",
       "1  Order_VLGB8UTf  Trade_q6TkQIbh    future_test    0.954375    0    None  \n",
       "2  Order_PleM5thI  Trade_PrQ03wG7    future_test    0.978500    0    None  \n",
       "3  Order_RzyJFOYp  Trade_QMqKvcCX    future_test    0.988000    0    None  \n",
       "4  Order_sDAZdh3u  Trade_Juyh0EKN    future_test    0.983500    0    None  "
      ]
     },
     "execution_count": 16,
     "metadata": {},
     "output_type": "execute_result"
    }
   ],
   "source": [
    "Account.history_table"
   ]
  },
  {
   "cell_type": "code",
   "execution_count": 17,
   "metadata": {},
   "outputs": [
    {
     "data": {
      "text/plain": [
       "9991.592875"
      ]
     },
     "execution_count": 17,
     "metadata": {},
     "output_type": "execute_result"
    }
   ],
   "source": [
    "10000-6.5-1.907125\n"
   ]
  },
  {
   "cell_type": "code",
   "execution_count": 18,
   "metadata": {},
   "outputs": [
    {
     "data": {
      "text/plain": [
       "'\\n初始资金10000\\n\\n\\n卖空开仓:3811.0 手续费 0.952750\\n\\n冻结资金 3811.95275\\n应剩余 6188.04725  ==> 此处冻结错误\\n\\n\\n买入平仓 \\t3817.5\\t 手续费0.954375\\n\\n买卖盈亏(3811.0-3817.5) = -6.5 手续费合计1.907125\\n\\n应剩余资金 10000-6.5-1.907125 = 9991.592875  ==> 恢复后依然正确\\n\\n\\n\\n\\n'"
      ]
     },
     "execution_count": 18,
     "metadata": {},
     "output_type": "execute_result"
    }
   ],
   "source": [
    "\"\"\"\n",
    "初始资金10000\n",
    "\n",
    "\n",
    "卖空开仓:3811.0 手续费 0.952750\n",
    "\n",
    "冻结资金 3811.95275\n",
    "应剩余 6188.04725 \n",
    "\n",
    "\n",
    "买入平仓 \t3817.5\t 手续费0.954375\n",
    "\n",
    "买卖盈亏(3811.0-3817.5) = -6.5 手续费合计1.907125\n",
    "\n",
    "应剩余资金 10000-6.5-1.907125 = 9991.592875  ==> 恢复后依然正确\n",
    "\n",
    "\n",
    "\n",
    "\n",
    "\"\"\""
   ]
  }
 ],
 "metadata": {
  "kernelspec": {
   "display_name": "Python 3",
   "language": "python",
   "name": "python3"
  },
  "language_info": {
   "codemirror_mode": {
    "name": "ipython",
    "version": 3
   },
   "file_extension": ".py",
   "mimetype": "text/x-python",
   "name": "python",
   "nbconvert_exporter": "python",
   "pygments_lexer": "ipython3",
   "version": "3.6.7"
  }
 },
 "nbformat": 4,
 "nbformat_minor": 2
}
